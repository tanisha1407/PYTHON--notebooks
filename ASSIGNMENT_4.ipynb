{
  "nbformat": 4,
  "nbformat_minor": 0,
  "metadata": {
    "colab": {
      "provenance": [],
      "authorship_tag": "ABX9TyM7yy6mru+15cp00com0k5G",
      "include_colab_link": true
    },
    "kernelspec": {
      "name": "python3",
      "display_name": "Python 3"
    },
    "language_info": {
      "name": "python"
    }
  },
  "cells": [
    {
      "cell_type": "markdown",
      "metadata": {
        "id": "view-in-github",
        "colab_type": "text"
      },
      "source": [
        "<a href=\"https://colab.research.google.com/github/tanisha1407/python-notebooks/blob/master/ASSIGNMENT_4.ipynb\" target=\"_parent\"><img src=\"https://colab.research.google.com/assets/colab-badge.svg\" alt=\"Open In Colab\"/></a>"
      ]
    },
    {
      "cell_type": "markdown",
      "source": [
        "QUESTION---Perform division between two numbers and then use the floor division (//) operator to get the\n",
        "integer result."
      ],
      "metadata": {
        "id": "OqEnSIHF_Cx6"
      }
    },
    {
      "cell_type": "code",
      "execution_count": null,
      "metadata": {
        "id": "r7b8ebrP-_kA",
        "colab": {
          "base_uri": "https://localhost:8080/"
        },
        "outputId": "f751ebe8-20b7-4e9c-9ab9-b02347f54fee"
      },
      "outputs": [
        {
          "output_type": "stream",
          "name": "stdout",
          "text": [
            "by division we get= 6.666666666666667\n",
            "by floor division we get= 6\n"
          ]
        }
      ],
      "source": [
        "a=20\n",
        "b=3\n",
        "c=a/b\n",
        "print('by division we get=',c)\n",
        "d=a//b\n",
        "print('by floor division we get=',d)"
      ]
    },
    {
      "cell_type": "markdown",
      "source": [
        "QUESTION---Compare two floating-point numbers using == to check if they are approximately equal. Consider\n",
        "using round() for comparison."
      ],
      "metadata": {
        "id": "ua3f-F6kA8Ac"
      }
    },
    {
      "cell_type": "code",
      "source": [
        "a=round(344.99)\n",
        "b=round(345.00)\n",
        "print(a==b)\n",
        "x=round(344.22)\n",
        "y=round(345.000)\n",
        "print(x==y)"
      ],
      "metadata": {
        "id": "2ArRIT3sCRaV",
        "colab": {
          "base_uri": "https://localhost:8080/"
        },
        "outputId": "ac2c20d1-4867-450d-f59a-57d75a98e565"
      },
      "execution_count": null,
      "outputs": [
        {
          "output_type": "stream",
          "name": "stdout",
          "text": [
            "True\n",
            "False\n"
          ]
        }
      ]
    },
    {
      "cell_type": "markdown",
      "source": [
        "QUESTION---Given two boolean variables, use and and or to determine all possible outcomes (e.g., True and\n",
        "False)."
      ],
      "metadata": {
        "id": "XgdIXKzaCR3V"
      }
    },
    {
      "cell_type": "code",
      "source": [
        "a=True\n",
        "b=False\n",
        "print(a and b)\n",
        "print(a or b)\n",
        "a=True\n",
        "b=True\n",
        "print(a and b)\n",
        "print(a or b)\n",
        "a=False\n",
        "b=True\n",
        "print(a and b)\n",
        "print(a or b)\n",
        "a=False\n",
        "b=False\n",
        "print(a and b)\n",
        "print(a or b)\n",
        "print(type(a))\n",
        "print(type(b))"
      ],
      "metadata": {
        "colab": {
          "base_uri": "https://localhost:8080/"
        },
        "id": "WVtyWZnBCXtg",
        "outputId": "5fd0acde-9d93-4acd-a507-677381012478"
      },
      "execution_count": null,
      "outputs": [
        {
          "output_type": "stream",
          "name": "stdout",
          "text": [
            "False\n",
            "True\n",
            "True\n",
            "True\n",
            "False\n",
            "True\n",
            "False\n",
            "False\n",
            "<class 'bool'>\n",
            "<class 'bool'>\n"
          ]
        }
      ]
    },
    {
      "cell_type": "markdown",
      "source": [
        "QUESTION---Use the bitwise OR (|) operator to combine two integer values."
      ],
      "metadata": {
        "id": "_sG9IHknC6GD"
      }
    },
    {
      "cell_type": "code",
      "source": [
        "a=5\n",
        "b=9\n",
        "c=a|b\n",
        "print(c)"
      ],
      "metadata": {
        "colab": {
          "base_uri": "https://localhost:8080/"
        },
        "id": "Dqmv87eqDXq_",
        "outputId": "4fbc45ed-d495-4625-f5f6-0556d16b5660"
      },
      "execution_count": null,
      "outputs": [
        {
          "output_type": "stream",
          "name": "stdout",
          "text": [
            "13\n"
          ]
        }
      ]
    },
    {
      "cell_type": "markdown",
      "source": [
        "QUESTION---Concatenate two strings without using the + operator (hint: use join())."
      ],
      "metadata": {
        "id": "6IRY1ZDXDeov"
      }
    },
    {
      "cell_type": "code",
      "source": [
        "a='this is'\n",
        "b='python'\n",
        "c='assignment 4'\n",
        "d=' '.join([a,b,c])\n",
        "print(d)\n"
      ],
      "metadata": {
        "colab": {
          "base_uri": "https://localhost:8080/"
        },
        "id": "WyejRLQEDsAr",
        "outputId": "c14c4f01-a78e-4ddd-e4fb-0c25f28015ea"
      },
      "execution_count": null,
      "outputs": [
        {
          "output_type": "stream",
          "name": "stdout",
          "text": [
            "this is python assignment 4\n"
          ]
        }
      ]
    },
    {
      "cell_type": "markdown",
      "source": [
        "QUESTION---Format a string using f-strings to include variables within the string."
      ],
      "metadata": {
        "id": "wc8NZt-TD_ZA"
      }
    },
    {
      "cell_type": "code",
      "source": [
        "a='this is'\n",
        "b='python'\n",
        "c='assignment 4'\n",
        "print(f'{a} {b} {c}')\n"
      ],
      "metadata": {
        "colab": {
          "base_uri": "https://localhost:8080/"
        },
        "id": "JZxfrhrND-do",
        "outputId": "6c94bfac-67fa-4338-aae9-dd1d929db6b1"
      },
      "execution_count": null,
      "outputs": [
        {
          "output_type": "stream",
          "name": "stdout",
          "text": [
            "this is python assignment 4\n"
          ]
        }
      ]
    },
    {
      "cell_type": "markdown",
      "source": [
        "QUESTION---Slice a string to extract the first three characters."
      ],
      "metadata": {
        "id": "o3p6CiNoEOh1"
      }
    },
    {
      "cell_type": "code",
      "source": [
        "a='question'\n",
        "print(a[:3:])"
      ],
      "metadata": {
        "colab": {
          "base_uri": "https://localhost:8080/"
        },
        "id": "_qc9JvdzES_q",
        "outputId": "f58fbbb8-1c83-49f5-d55b-bb8df93fdc42"
      },
      "execution_count": null,
      "outputs": [
        {
          "output_type": "stream",
          "name": "stdout",
          "text": [
            "que\n"
          ]
        }
      ]
    },
    {
      "cell_type": "markdown",
      "source": [
        "QUESTION---Convert a string like &quot;123&quot; into an integer using int()."
      ],
      "metadata": {
        "id": "SJxV8VoBEhEr"
      }
    },
    {
      "cell_type": "code",
      "source": [
        "a='123'\n",
        "b=int(a)\n",
        "print(b)\n",
        "print(type(b))"
      ],
      "metadata": {
        "colab": {
          "base_uri": "https://localhost:8080/"
        },
        "id": "pFej-FB7El6b",
        "outputId": "f174931b-fc93-4d17-d0d5-54b14562ae41"
      },
      "execution_count": null,
      "outputs": [
        {
          "output_type": "stream",
          "name": "stdout",
          "text": [
            "123\n",
            "<class 'int'>\n"
          ]
        }
      ]
    },
    {
      "cell_type": "markdown",
      "source": [
        "QUESTION---Access the value of a key from a nested dictionary (e.g., d = {'key1': {'key2':'value'}})."
      ],
      "metadata": {
        "id": "-CrvxjIEE5Sz"
      }
    },
    {
      "cell_type": "code",
      "source": [
        "#d={'key1':{'key2':'value'}}\n",
        "#accesing element in nested dictionary using  syntax:dictionaryname['key1']['key2 (which is value of key 1)']\n",
        "d = {'customer': {'name':'tanisha'}}\n",
        "print(d['customer']['name'])\n"
      ],
      "metadata": {
        "colab": {
          "base_uri": "https://localhost:8080/"
        },
        "id": "0S7-pVGTE48Y",
        "outputId": "fe814ce8-5842-42ca-9156-bedd4c29595c"
      },
      "execution_count": null,
      "outputs": [
        {
          "output_type": "stream",
          "name": "stdout",
          "text": [
            "tanisha\n"
          ]
        }
      ]
    },
    {
      "cell_type": "markdown",
      "source": [
        "QUESTION---Access the last element of a list using negative indexing."
      ],
      "metadata": {
        "id": "S7i9QQkNGXUx"
      }
    },
    {
      "cell_type": "code",
      "source": [
        "a=[1,'tanisha',9,'yellow',6.9,2,4,'python',33,11,'regex']\n",
        "print('last element=',a[-1])"
      ],
      "metadata": {
        "colab": {
          "base_uri": "https://localhost:8080/"
        },
        "id": "e6hwq1ZwGZh3",
        "outputId": "59dbf2e4-bfdd-4405-8484-c02ec6991825"
      },
      "execution_count": null,
      "outputs": [
        {
          "output_type": "stream",
          "name": "stdout",
          "text": [
            "last element= regex\n"
          ]
        }
      ]
    },
    {
      "cell_type": "markdown",
      "source": [
        "QUESTION---Slice a list to get every second element from the start to the end."
      ],
      "metadata": {
        "id": "K2CuPpXTGsFG"
      }
    },
    {
      "cell_type": "code",
      "source": [
        "a=[1,'tanisha',9,'yellow',6.9,2,4,'python',33,11,'regex']\n",
        "print(a[::2])\n"
      ],
      "metadata": {
        "colab": {
          "base_uri": "https://localhost:8080/"
        },
        "id": "3rGuDSODGxh0",
        "outputId": "ca0e2627-00f5-478a-b199-b21ea55e21b7"
      },
      "execution_count": null,
      "outputs": [
        {
          "output_type": "stream",
          "name": "stdout",
          "text": [
            "[1, 9, 6.9, 4, 33, 'regex']\n"
          ]
        }
      ]
    },
    {
      "cell_type": "markdown",
      "source": [
        "QUESTION---Concatenate two lists using the + operator."
      ],
      "metadata": {
        "id": "pCSQXe76G5L8"
      }
    },
    {
      "cell_type": "code",
      "source": [
        "a=[1,2,3,4,5,6]\n",
        "b=[7,8,9,10,11,12]\n",
        "print(a+b)\n"
      ],
      "metadata": {
        "colab": {
          "base_uri": "https://localhost:8080/"
        },
        "id": "KEVcvmGRG9Un",
        "outputId": "55c63178-f1b4-41c3-8296-498a1d35ced8"
      },
      "execution_count": null,
      "outputs": [
        {
          "output_type": "stream",
          "name": "stdout",
          "text": [
            "[1, 2, 3, 4, 5, 6, 7, 8, 9, 10, 11, 12]\n"
          ]
        }
      ]
    },
    {
      "cell_type": "markdown",
      "source": [
        "QUESTION---Replicate the elements of a list three times using the * operator."
      ],
      "metadata": {
        "id": "wZZuk6HVHItS"
      }
    },
    {
      "cell_type": "code",
      "source": [
        "a=[1,2,3,4,5,6]\n",
        "print(a*3)\n"
      ],
      "metadata": {
        "colab": {
          "base_uri": "https://localhost:8080/"
        },
        "id": "fhU3_Zm0HQY1",
        "outputId": "4c54e840-4f51-4cdf-cbeb-544cc3b7cb1d"
      },
      "execution_count": null,
      "outputs": [
        {
          "output_type": "stream",
          "name": "stdout",
          "text": [
            "[1, 2, 3, 4, 5, 6, 1, 2, 3, 4, 5, 6, 1, 2, 3, 4, 5, 6]\n"
          ]
        }
      ]
    },
    {
      "cell_type": "markdown",
      "source": [
        "QUESTION---Check if an element exists in a list using the in operator."
      ],
      "metadata": {
        "id": "sLYNHqv6HcZb"
      }
    },
    {
      "cell_type": "code",
      "source": [
        "a=[1,'tanisha',9,'yellow',6.9,2,4,'python',33,11,'regex']\n",
        "print(11 in a)\n",
        "print('tanisha' in a)\n",
        "print(22 in a)"
      ],
      "metadata": {
        "colab": {
          "base_uri": "https://localhost:8080/"
        },
        "id": "ZFSAbH1EHhq7",
        "outputId": "3f36eb34-277a-407a-a772-1fe75addf037"
      },
      "execution_count": null,
      "outputs": [
        {
          "output_type": "stream",
          "name": "stdout",
          "text": [
            "True\n",
            "True\n",
            "False\n"
          ]
        }
      ]
    },
    {
      "cell_type": "markdown",
      "source": [
        "QUESTION---Sort a list in ascending order using the sorted() function.\n"
      ],
      "metadata": {
        "id": "wJ5icgUkHtiE"
      }
    },
    {
      "cell_type": "code",
      "source": [
        "a=[10,0,8,5,6.6,3,2.4,5.6,77,89,33,100,0.1]\n",
        "print(sorted(a))"
      ],
      "metadata": {
        "colab": {
          "base_uri": "https://localhost:8080/"
        },
        "id": "XD8VcOsPHzny",
        "outputId": "5311dd87-8755-4d6a-8c85-d06457f3f78c"
      },
      "execution_count": null,
      "outputs": [
        {
          "output_type": "stream",
          "name": "stdout",
          "text": [
            "[0, 0.1, 2.4, 3, 5, 5.6, 6.6, 8, 10, 33, 77, 89, 100]\n"
          ]
        }
      ]
    },
    {
      "cell_type": "markdown",
      "source": [
        "QUESTION---Retrieve the index of the first occurrence of a value in a list using the index() method."
      ],
      "metadata": {
        "id": "2qfb5dlMIhtJ"
      }
    },
    {
      "cell_type": "code",
      "source": [
        "a=[1,'tanisha',9,'yellow',6.9,2,4,'python',33,11,'regex','tanisha',44,'tanisha',55,'yellow',9,9]\n",
        "print(a.index('tanisha'))\n",
        "print(a.index(9))\n",
        "print(a.index('yellow'))\n"
      ],
      "metadata": {
        "colab": {
          "base_uri": "https://localhost:8080/"
        },
        "id": "VmDfgJ8EIqoK",
        "outputId": "6907bdfd-d03e-4352-d2e5-178d1f0943d5"
      },
      "execution_count": null,
      "outputs": [
        {
          "output_type": "stream",
          "name": "stdout",
          "text": [
            "1\n",
            "2\n",
            "3\n"
          ]
        }
      ]
    },
    {
      "cell_type": "markdown",
      "source": [
        "QUESTION---Access a sublist by slicing from the second element to the fourth element (inclusive)."
      ],
      "metadata": {
        "id": "jmbSThb6I_co"
      }
    },
    {
      "cell_type": "code",
      "source": [
        "a=[1,'tanisha',9,'yellow',6.9,2,4,'python',33,11,'regex',44,'tanisha',55,'yellow',9,9]\n",
        "print('sublist from second to fourth element=',a[1:4:])\n"
      ],
      "metadata": {
        "colab": {
          "base_uri": "https://localhost:8080/"
        },
        "id": "WIPyxiDnJBe4",
        "outputId": "62f0a3f7-8fcc-4864-e5f9-2c473d8883c0"
      },
      "execution_count": null,
      "outputs": [
        {
          "output_type": "stream",
          "name": "stdout",
          "text": [
            "sublist from second to fourth element= ['tanisha', 9, 'yellow']\n"
          ]
        }
      ]
    },
    {
      "cell_type": "markdown",
      "source": [
        "QUESTION---Determine the number of elements in a list using the len() function."
      ],
      "metadata": {
        "id": "n2ypm6AVJSe7"
      }
    },
    {
      "cell_type": "code",
      "source": [
        "a=[1,'tanisha',9,'yellow',6.9,2,4,'python',33,11,'regex',44,'tanisha',55,'yellow',9,9]\n",
        "print('no. of elements of a=',len(a))"
      ],
      "metadata": {
        "colab": {
          "base_uri": "https://localhost:8080/"
        },
        "id": "gP2fXdKxJXAr",
        "outputId": "785c1361-44ee-4869-fbdd-1ff095821e1b"
      },
      "execution_count": null,
      "outputs": [
        {
          "output_type": "stream",
          "name": "stdout",
          "text": [
            "no. of elements of a= 17\n"
          ]
        }
      ]
    },
    {
      "cell_type": "markdown",
      "source": [
        "QUESTION---Combine multiple lists into a single list using list unpacking."
      ],
      "metadata": {
        "id": "54KQg9nyJjWm"
      }
    },
    {
      "cell_type": "code",
      "source": [
        "a=[1,2,3,4,5,6]\n",
        "b=[7,8,9,10,11,12]\n",
        "c=[13,14,15,16,17,18]\n",
        "print([*a,*b,*c]) # * is used for combining list or unpacking of lists in python with syntax:[*list1,*list2,*list3,.....]\n"
      ],
      "metadata": {
        "colab": {
          "base_uri": "https://localhost:8080/"
        },
        "id": "FATZcuQqJzaU",
        "outputId": "9ba59681-335e-4b63-cd87-91e1d0e9192e"
      },
      "execution_count": null,
      "outputs": [
        {
          "output_type": "stream",
          "name": "stdout",
          "text": [
            "[1, 2, 3, 4, 5, 6, 7, 8, 9, 10, 11, 12, 13, 14, 15, 16, 17, 18]\n"
          ]
        }
      ]
    },
    {
      "cell_type": "markdown",
      "source": [
        "QUESTION---Create a tuple from a list using tuple()."
      ],
      "metadata": {
        "id": "xsz_FSXTJx9r"
      }
    },
    {
      "cell_type": "code",
      "source": [
        "a=[1,'tanisha',9,'yellow',6.9,2,4,'python',33,11,'regex',44,'tanisha',55,'yellow',9,9]\n",
        "b=tuple(a)\n",
        "print(b)\n",
        "print(type(b))\n"
      ],
      "metadata": {
        "colab": {
          "base_uri": "https://localhost:8080/"
        },
        "id": "3cDV7bmJKoi3",
        "outputId": "25b1c07a-4401-419b-d2db-d309b2f6a268"
      },
      "execution_count": null,
      "outputs": [
        {
          "output_type": "stream",
          "name": "stdout",
          "text": [
            "(1, 'tanisha', 9, 'yellow', 6.9, 2, 4, 'python', 33, 11, 'regex', 44, 'tanisha', 55, 'yellow', 9, 9)\n",
            "<class 'tuple'>\n"
          ]
        }
      ]
    },
    {
      "cell_type": "markdown",
      "source": [
        "QUESTION---Access the third element in a tuple."
      ],
      "metadata": {
        "id": "7cRy20sqK0U2"
      }
    },
    {
      "cell_type": "code",
      "source": [
        "a=(1,'tanisha',9,'yellow',6.9,2,4,'python',33,11,'regex',44,'tanisha',55,'yellow',9,9)\n",
        "print(a[2]) #accesing third element whose index is 2"
      ],
      "metadata": {
        "colab": {
          "base_uri": "https://localhost:8080/"
        },
        "id": "nYpk5NhBK5vy",
        "outputId": "5112aac4-e72c-4ad0-c499-04d37d7f121a"
      },
      "execution_count": null,
      "outputs": [
        {
          "output_type": "stream",
          "name": "stdout",
          "text": [
            "9\n"
          ]
        }
      ]
    },
    {
      "cell_type": "markdown",
      "source": [
        "QUESTION---Replicate a tuple multiple times using the * operator."
      ],
      "metadata": {
        "id": "RJkZ0IBcLBd5"
      }
    },
    {
      "cell_type": "code",
      "source": [
        "a=(1,'tanisha',9,'yellow',6.9,2,4,'python',33,11,'regex',44,'tanisha',55,'yellow',9,9)\n",
        "print(a*5)"
      ],
      "metadata": {
        "colab": {
          "base_uri": "https://localhost:8080/"
        },
        "id": "N_53OKf4LGxx",
        "outputId": "5b30bf77-c647-443e-9b16-38565815ded5"
      },
      "execution_count": null,
      "outputs": [
        {
          "output_type": "stream",
          "name": "stdout",
          "text": [
            "(1, 'tanisha', 9, 'yellow', 6.9, 2, 4, 'python', 33, 11, 'regex', 44, 'tanisha', 55, 'yellow', 9, 9, 1, 'tanisha', 9, 'yellow', 6.9, 2, 4, 'python', 33, 11, 'regex', 44, 'tanisha', 55, 'yellow', 9, 9, 1, 'tanisha', 9, 'yellow', 6.9, 2, 4, 'python', 33, 11, 'regex', 44, 'tanisha', 55, 'yellow', 9, 9, 1, 'tanisha', 9, 'yellow', 6.9, 2, 4, 'python', 33, 11, 'regex', 44, 'tanisha', 55, 'yellow', 9, 9, 1, 'tanisha', 9, 'yellow', 6.9, 2, 4, 'python', 33, 11, 'regex', 44, 'tanisha', 55, 'yellow', 9, 9)\n"
          ]
        }
      ]
    },
    {
      "cell_type": "markdown",
      "source": [
        "QUESTION---Check if a element is in tuple using in operator."
      ],
      "metadata": {
        "id": "S0GtGZ_SLMTo"
      }
    },
    {
      "cell_type": "code",
      "source": [
        "a=(1,'tanisha',9,'yellow',6.9,2,4,'python',33,11,'regex',44,'tanisha',55,'yellow',9,9)\n",
        "print(11 in a)\n",
        "print('tanisha' in a)\n",
        "print('zebra' in a)\n",
        "print(22 in a)"
      ],
      "metadata": {
        "colab": {
          "base_uri": "https://localhost:8080/"
        },
        "id": "G9kJZI-7LcoH",
        "outputId": "56244da2-edf7-41a6-9e33-761ea4ae46db"
      },
      "execution_count": null,
      "outputs": [
        {
          "output_type": "stream",
          "name": "stdout",
          "text": [
            "True\n",
            "True\n",
            "False\n",
            "False\n"
          ]
        }
      ]
    },
    {
      "cell_type": "markdown",
      "source": [
        "QUESION---Retrive all keys from a dictionary using key() method."
      ],
      "metadata": {
        "id": "swFiLPACMeqS"
      }
    },
    {
      "cell_type": "code",
      "source": [
        "a=dict(name='tanisha',age=20,gender='female',course='data science',institute='regex')\n",
        "print(a.keys())"
      ],
      "metadata": {
        "colab": {
          "base_uri": "https://localhost:8080/"
        },
        "id": "joOMM7xwMp-f",
        "outputId": "16a79b57-1b7b-4ac9-ecda-20aa89f85206"
      },
      "execution_count": null,
      "outputs": [
        {
          "output_type": "stream",
          "name": "stdout",
          "text": [
            "dict_keys(['name', 'age', 'gender', 'course', 'institute'])\n"
          ]
        }
      ]
    },
    {
      "cell_type": "markdown",
      "source": [
        "QUESION---Retrive all values from a dictionary using values() method"
      ],
      "metadata": {
        "id": "6FtI7IIpM81_"
      }
    },
    {
      "cell_type": "code",
      "source": [
        "a=dict(name='tanisha',age=20,gender='female',course='data science',institute='regex')\n",
        "print(a.values())"
      ],
      "metadata": {
        "colab": {
          "base_uri": "https://localhost:8080/"
        },
        "id": "8AyOv650NEgO",
        "outputId": "2a0187cb-4df1-496c-c4ea-eb2ca0facbb9"
      },
      "execution_count": null,
      "outputs": [
        {
          "output_type": "stream",
          "name": "stdout",
          "text": [
            "dict_values(['tanisha', 20, 'female', 'data science', 'regex'])\n"
          ]
        }
      ]
    },
    {
      "cell_type": "markdown",
      "source": [
        "QUESTION---Update the value of a key in a dictionary using assignment (e.g., d[key] = new_value)."
      ],
      "metadata": {
        "id": "OlQO1SbINLWx"
      }
    },
    {
      "cell_type": "code",
      "source": [
        "a=dict(name='tanisha',age=20,gender='female',course='data science',institute='regex')\n",
        "a['age']=21\n",
        "a['course']='python'\n",
        "print(a)"
      ],
      "metadata": {
        "colab": {
          "base_uri": "https://localhost:8080/"
        },
        "id": "Mci08aWdNObv",
        "outputId": "885a5bb9-8cc9-49d3-be34-beeb5d895061"
      },
      "execution_count": null,
      "outputs": [
        {
          "output_type": "stream",
          "name": "stdout",
          "text": [
            "{'name': 'tanisha', 'age': 21, 'gender': 'female', 'course': 'python', 'institute': 'regex'}\n"
          ]
        }
      ]
    },
    {
      "cell_type": "markdown",
      "source": [
        "QUESTION---Subtract two numbers and then raise the result to the power of 3 using the ** operator"
      ],
      "metadata": {
        "id": "V_NwSwXCNXCY"
      }
    },
    {
      "cell_type": "code",
      "source": [
        "a=10\n",
        "b=5\n",
        "c=a-b\n",
        "print(c**3)"
      ],
      "metadata": {
        "colab": {
          "base_uri": "https://localhost:8080/"
        },
        "id": "VyQLctxENcCw",
        "outputId": "4ecc1a70-537f-4ae9-8da5-50d84ebb0d7e"
      },
      "execution_count": null,
      "outputs": [
        {
          "output_type": "stream",
          "name": "stdout",
          "text": [
            "125\n"
          ]
        }
      ]
    },
    {
      "cell_type": "markdown",
      "source": [
        "QUESTION---Given two strings, check if one string is greater than the other using the > operator."
      ],
      "metadata": {
        "id": "bqZb9H9RNfir"
      }
    },
    {
      "cell_type": "code",
      "source": [
        "a='tanisha'\n",
        "b='regexsoftware'\n",
        "print(a>b)\n",
        "print(b>a)"
      ],
      "metadata": {
        "colab": {
          "base_uri": "https://localhost:8080/"
        },
        "id": "YWvJzCbaNmuE",
        "outputId": "d74d8430-d940-492b-e7c0-c6340bb5c90d"
      },
      "execution_count": null,
      "outputs": [
        {
          "output_type": "stream",
          "name": "stdout",
          "text": [
            "True\n",
            "False\n"
          ]
        }
      ]
    },
    {
      "cell_type": "markdown",
      "source": [
        "QUESTION---Combine three conditions using and, or, and not to evaluate whether a specific combination of\n",
        "boolean values is true."
      ],
      "metadata": {
        "id": "TPz7tQ1aLn-h"
      }
    },
    {
      "cell_type": "code",
      "source": [
        "a=True\n",
        "b=False\n",
        "c=True\n",
        "print(a and b ) or (not c)\n",
        "\n"
      ],
      "metadata": {
        "colab": {
          "base_uri": "https://localhost:8080/"
        },
        "id": "Nwt5ROZnNzx7",
        "outputId": "9ecd6187-dfa7-46cb-9e68-f32cc221380c"
      },
      "execution_count": null,
      "outputs": [
        {
          "output_type": "stream",
          "name": "stdout",
          "text": [
            "False\n"
          ]
        },
        {
          "output_type": "execute_result",
          "data": {
            "text/plain": [
              "False"
            ]
          },
          "metadata": {},
          "execution_count": 1
        }
      ]
    },
    {
      "cell_type": "markdown",
      "source": [
        "QUESTION---Create a dictionary and use all the built in functions."
      ],
      "metadata": {
        "id": "2uBjQNfGOcOo"
      }
    },
    {
      "cell_type": "code",
      "source": [
        "a=dict(school='SVIS',teacher_count=45,student_count=3000, classes='nursery to 12th',principal='MRS. SHARMA',location='indore',email='svis@gmail.com',contact=1112223331,website='svis.com')\n",
        "print('our dictionary=',a)\n",
        "print('All keys=',a.keys())\n",
        "print('All values=',a.values())\n",
        "print('All items=',a.items())\n",
        "print('updating no. of branches and vice principal and chairman name of our dictionary')\n",
        "a.update({'no. of branch':3,'vice principal':'MR. SINGH','chairman name':'MR. GUPTA'})\n",
        "print('updated dictionary=',a)\n",
        "print(a.clear())\n",
        "print('dictionary after clearing=',a)\n"
      ],
      "metadata": {
        "colab": {
          "base_uri": "https://localhost:8080/"
        },
        "id": "ww_sAEllOg8D",
        "outputId": "d3550c2a-1d66-4aaf-ca66-8594b203e999"
      },
      "execution_count": null,
      "outputs": [
        {
          "output_type": "stream",
          "name": "stdout",
          "text": [
            "our dictionary= {'school': 'SVIS', 'teacher_count': 45, 'student_count': 3000, 'classes': 'nursery to 12th', 'principal': 'MRS. SHARMA', 'location': 'indore', 'email': 'svis@gmail.com', 'contact': 1112223331, 'website': 'svis.com'}\n",
            "All keys= dict_keys(['school', 'teacher_count', 'student_count', 'classes', 'principal', 'location', 'email', 'contact', 'website'])\n",
            "All values= dict_values(['SVIS', 45, 3000, 'nursery to 12th', 'MRS. SHARMA', 'indore', 'svis@gmail.com', 1112223331, 'svis.com'])\n",
            "All items= dict_items([('school', 'SVIS'), ('teacher_count', 45), ('student_count', 3000), ('classes', 'nursery to 12th'), ('principal', 'MRS. SHARMA'), ('location', 'indore'), ('email', 'svis@gmail.com'), ('contact', 1112223331), ('website', 'svis.com')])\n",
            "updating no. of branches and vice principal and chairman name of our dictionary\n",
            "updated dictionary= {'school': 'SVIS', 'teacher_count': 45, 'student_count': 3000, 'classes': 'nursery to 12th', 'principal': 'MRS. SHARMA', 'location': 'indore', 'email': 'svis@gmail.com', 'contact': 1112223331, 'website': 'svis.com', 'no. of branch': 3, 'vice principal': 'MR. SINGH', 'chairman name': 'MR. GUPTA'}\n",
            "None\n",
            "dictionary after clearing= {}\n"
          ]
        }
      ]
    }
  ]
}