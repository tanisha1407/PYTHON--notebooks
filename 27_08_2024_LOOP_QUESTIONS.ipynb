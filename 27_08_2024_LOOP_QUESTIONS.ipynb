{
  "nbformat": 4,
  "nbformat_minor": 0,
  "metadata": {
    "colab": {
      "provenance": [],
      "authorship_tag": "ABX9TyMCqMC7CoWHkqj2HZJDSEde",
      "include_colab_link": true
    },
    "kernelspec": {
      "name": "python3",
      "display_name": "Python 3"
    },
    "language_info": {
      "name": "python"
    }
  },
  "cells": [
    {
      "cell_type": "markdown",
      "metadata": {
        "id": "view-in-github",
        "colab_type": "text"
      },
      "source": [
        "<a href=\"https://colab.research.google.com/github/tanisha1407/PYTHON--notebooks/blob/master/27_08_2024_LOOP_QUESTIONS.ipynb\" target=\"_parent\"><img src=\"https://colab.research.google.com/assets/colab-badge.svg\" alt=\"Open In Colab\"/></a>"
      ]
    },
    {
      "cell_type": "markdown",
      "source": [
        "write a loop to calculate the factorial of a number provided by the user."
      ],
      "metadata": {
        "id": "jkKn1XnHPhsX"
      }
    },
    {
      "cell_type": "code",
      "execution_count": null,
      "metadata": {
        "id": "TZAgtiZbAoe2",
        "colab": {
          "base_uri": "https://localhost:8080/"
        },
        "outputId": "70353f35-5053-4038-dcc4-7ed480fc5dd4"
      },
      "outputs": [
        {
          "output_type": "stream",
          "name": "stdout",
          "text": [
            "enter a number7\n",
            "5040\n"
          ]
        }
      ],
      "source": [
        "a=int(input(\"enter a number\"))\n",
        "for i in range(1,a):\n",
        "  a=a*i\n",
        "print(a)"
      ]
    },
    {
      "cell_type": "markdown",
      "source": [
        "write a while loop that asks the user to enter a number and stops when number is zero."
      ],
      "metadata": {
        "id": "W_pyqnyCQORU"
      }
    },
    {
      "cell_type": "code",
      "source": [
        "a=int(input('enter a number'))\n",
        "while a!=0:\n",
        "  a=int(input('enter a number'))\n",
        "\n"
      ],
      "metadata": {
        "colab": {
          "base_uri": "https://localhost:8080/"
        },
        "id": "l5IxMzrEQbAJ",
        "outputId": "614153b1-e478-4303-8f69-35e8c2c51765"
      },
      "execution_count": null,
      "outputs": [
        {
          "name": "stdout",
          "output_type": "stream",
          "text": [
            "enter a number8\n",
            "enter a number9\n",
            "enter a number0\n"
          ]
        }
      ]
    },
    {
      "cell_type": "markdown",
      "source": [
        "write a for loop to iterate over a list of strings and print each string in uppercase"
      ],
      "metadata": {
        "id": "YF4Znp8LRW0d"
      }
    },
    {
      "cell_type": "code",
      "source": [
        "l=['tanisha','ayush','megha']\n",
        "for i in l:\n",
        "  print(i.upper())"
      ],
      "metadata": {
        "colab": {
          "base_uri": "https://localhost:8080/"
        },
        "id": "EBJIhzKdRuWJ",
        "outputId": "4bff942e-241a-4a66-c3fe-9d4737ad7339"
      },
      "execution_count": null,
      "outputs": [
        {
          "output_type": "stream",
          "name": "stdout",
          "text": [
            "TANISHA\n",
            "AYUSH\n",
            "MEGHA\n"
          ]
        }
      ]
    },
    {
      "cell_type": "markdown",
      "source": [
        "write a while loop to reverse a number provided by a user"
      ],
      "metadata": {
        "id": "FknsFezhSQ-K"
      }
    },
    {
      "cell_type": "code",
      "source": [
        "a=int(input('enter a number'))\n",
        "rev=0\n",
        "while a!=0:\n",
        "  rev=rev*10+a%10\n",
        "  a=a//10\n",
        "print(rev)\n"
      ],
      "metadata": {
        "colab": {
          "base_uri": "https://localhost:8080/"
        },
        "id": "7-e95CbHSgqm",
        "outputId": "b1745b83-044e-4a53-d3da-55a814370cf0"
      },
      "execution_count": 6,
      "outputs": [
        {
          "output_type": "stream",
          "name": "stdout",
          "text": [
            "enter a number45678\n",
            "87654\n"
          ]
        }
      ]
    },
    {
      "cell_type": "markdown",
      "source": [
        "provide an example where you use a for loop inside a while loop"
      ],
      "metadata": {
        "id": "QeWYX9Q8TqBG"
      }
    },
    {
      "cell_type": "code",
      "source": [
        "a = int(input(\"Enter a number: \"))\n",
        "while a > 0:\n",
        "  sum = 0\n",
        "  for i in range(1, a + 1):\n",
        "    sum += i\n",
        "  print(\"Sum of numbers till\", a, \"is\", sum)\n",
        "  a = int(input(\"Enter a number: \"))\n"
      ],
      "metadata": {
        "colab": {
          "base_uri": "https://localhost:8080/"
        },
        "id": "6H7Dv70lUE7R",
        "outputId": "9a898fa6-24fe-48af-cf19-717a6c4945dd"
      },
      "execution_count": null,
      "outputs": [
        {
          "name": "stdout",
          "output_type": "stream",
          "text": [
            "Enter a number: 6\n",
            "Sum of numbers till 6 is 21\n",
            "Enter a number: 7\n",
            "Sum of numbers till 7 is 28\n",
            "Enter a number: 0\n"
          ]
        }
      ]
    },
    {
      "cell_type": "markdown",
      "source": [
        "write a for loop to print the fibonacci series upto n terms, where n is provived by user"
      ],
      "metadata": {
        "id": "pk5DIbyOU5ci"
      }
    },
    {
      "cell_type": "code",
      "source": [
        "n=int(input('enter a number'))\n",
        "a=0\n",
        "b=1\n",
        "for i in range(n):\n",
        "  print(a)\n",
        "  c=a+b\n",
        "  a=b\n",
        "  b=c\n"
      ],
      "metadata": {
        "id": "jwEOryxmVEBI",
        "colab": {
          "base_uri": "https://localhost:8080/"
        },
        "outputId": "ddf3748c-14b1-43e3-e26d-db39d6695011"
      },
      "execution_count": null,
      "outputs": [
        {
          "output_type": "stream",
          "name": "stdout",
          "text": [
            "enter a number7\n",
            "0\n",
            "1\n",
            "1\n",
            "2\n",
            "3\n",
            "5\n",
            "8\n"
          ]
        }
      ]
    },
    {
      "cell_type": "markdown",
      "source": [
        "write a for loop that iterates over a dictionary and prints the key value pairs in format key:value"
      ],
      "metadata": {
        "id": "2Ing8J10VxNq"
      }
    },
    {
      "cell_type": "code",
      "source": [
        "dict={'a':'1','b':'2','c':'3'}\n",
        "for i in dict.items():\n",
        "  print(i)"
      ],
      "metadata": {
        "colab": {
          "base_uri": "https://localhost:8080/"
        },
        "id": "LfY0JmKQWDMc",
        "outputId": "bb9d87f7-3993-4f8e-b9f3-e412b7d06c97"
      },
      "execution_count": null,
      "outputs": [
        {
          "output_type": "stream",
          "name": "stdout",
          "text": [
            "('a', '1')\n",
            "('b', '2')\n",
            "('c', '3')\n"
          ]
        }
      ]
    },
    {
      "cell_type": "markdown",
      "source": [
        "write a while loop to sum the digits of a positive integer provided by user"
      ],
      "metadata": {
        "id": "VVedP3FsWsyA"
      }
    },
    {
      "cell_type": "code",
      "source": [
        "a=int(input('enter a number'))\n",
        "sum=0\n",
        "while a!=0:\n",
        "  sum=sum+a%10\n",
        "  a=a//10\n",
        "print(sum)"
      ],
      "metadata": {
        "colab": {
          "base_uri": "https://localhost:8080/"
        },
        "id": "Bu1rWhvGW8rd",
        "outputId": "bc818b90-fab0-474b-df2c-f0e0a0d3a481"
      },
      "execution_count": null,
      "outputs": [
        {
          "output_type": "stream",
          "name": "stdout",
          "text": [
            "enter a number345\n",
            "12\n"
          ]
        }
      ]
    },
    {
      "cell_type": "markdown",
      "source": [
        "write a for loop to print all prime numbers between 2 and 50."
      ],
      "metadata": {
        "id": "C13RhcqOa42e"
      }
    },
    {
      "cell_type": "code",
      "source": [
        "for i in range(2,50):\n",
        "  for j in range(2,i):\n",
        "    if i%j==0:\n",
        "      break\n",
        "  else:\n",
        "    print(i)"
      ],
      "metadata": {
        "colab": {
          "base_uri": "https://localhost:8080/"
        },
        "id": "LONNkvDfXIPB",
        "outputId": "e5cc5ba9-75fe-4be9-cf64-29f4000040fc"
      },
      "execution_count": 5,
      "outputs": [
        {
          "output_type": "stream",
          "name": "stdout",
          "text": [
            "2\n",
            "3\n",
            "5\n",
            "7\n",
            "11\n",
            "13\n",
            "17\n",
            "19\n",
            "23\n",
            "29\n",
            "31\n",
            "37\n",
            "41\n",
            "43\n",
            "47\n"
          ]
        }
      ]
    },
    {
      "cell_type": "markdown",
      "source": [
        "write a for loop to reverse a string provided by the user without using built in funtion"
      ],
      "metadata": {
        "id": "SCq_gIInXTJf"
      }
    },
    {
      "cell_type": "code",
      "source": [
        "a=input('enter a string')\n",
        "b=\"\"\n",
        "for i in a:\n",
        "  b=i+b\n",
        "print(b)\n",
        "\n",
        "\n",
        "#using range function:\n",
        "\n",
        "x=input('enter a string')\n",
        "for i in range(len(x)-1,-1,-1):\n",
        "  print(x[i],end=\"\")\n"
      ],
      "metadata": {
        "colab": {
          "base_uri": "https://localhost:8080/"
        },
        "id": "YbvV04Yn6I7Q",
        "outputId": "e87f0629-e9a9-4fd3-dfa1-6b8d1c2b7d7b"
      },
      "execution_count": 7,
      "outputs": [
        {
          "output_type": "stream",
          "name": "stdout",
          "text": [
            "enter a stringtanisha\n",
            "ahsinat\n",
            "enter a stringayush\n",
            "hsuya"
          ]
        }
      ]
    },
    {
      "cell_type": "markdown",
      "source": [
        "given a list of words,write a for loop to find longest word and its length"
      ],
      "metadata": {
        "id": "qZg0SrF7Y35T"
      }
    },
    {
      "cell_type": "code",
      "source": [
        "words = ['apple', 'banana', 'pineapple', 'grape']\n",
        "longest_word = ''\n",
        "max_length = 0\n",
        "\n",
        "for word in words:\n",
        "    if len(word) > max_length:\n",
        "        longest_word = word\n",
        "        max_length = len(word)\n",
        "\n",
        "print(f\"Longest word: {longest_word}, Length: {max_length}\")\n"
      ],
      "metadata": {
        "colab": {
          "base_uri": "https://localhost:8080/"
        },
        "id": "bfIse2pDZ6eP",
        "outputId": "bd6d73fd-860a-4902-fe9f-74e8f5d0e489"
      },
      "execution_count": 8,
      "outputs": [
        {
          "output_type": "stream",
          "name": "stdout",
          "text": [
            "Longest word: pineapple, Length: 9\n"
          ]
        }
      ]
    }
  ]
}