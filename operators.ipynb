{
  "nbformat": 4,
  "nbformat_minor": 0,
  "metadata": {
    "colab": {
      "provenance": [],
      "authorship_tag": "ABX9TyPGiPe3lEf5GhP2XzgEJDG7",
      "include_colab_link": true
    },
    "kernelspec": {
      "name": "python3",
      "display_name": "Python 3"
    },
    "language_info": {
      "name": "python"
    }
  },
  "cells": [
    {
      "cell_type": "markdown",
      "metadata": {
        "id": "view-in-github",
        "colab_type": "text"
      },
      "source": [
        "<a href=\"https://colab.research.google.com/github/tanisha1407/PYTHON--notebooks/blob/master/operators.ipynb\" target=\"_parent\"><img src=\"https://colab.research.google.com/assets/colab-badge.svg\" alt=\"Open In Colab\"/></a>"
      ]
    },
    {
      "cell_type": "markdown",
      "source": [
        "**ARITHMATIC OPERATORS**\n",
        "\n",
        "+,-,multiply,/,//,%,exponential"
      ],
      "metadata": {
        "id": "kBXus6yIvCTR"
      }
    },
    {
      "cell_type": "code",
      "execution_count": null,
      "metadata": {
        "colab": {
          "base_uri": "https://localhost:8080/"
        },
        "id": "vzyfI6Xpu37B",
        "outputId": "77338b14-68d4-4a8c-dbae-e8c0df047a9a"
      },
      "outputs": [
        {
          "output_type": "stream",
          "name": "stdout",
          "text": [
            "13\n",
            "-3\n",
            "40\n",
            "0.625\n",
            "5\n",
            "390625\n",
            "0\n"
          ]
        }
      ],
      "source": [
        "x=5\n",
        "y=8\n",
        "print(x+y)\n",
        "print(x-y)\n",
        "print(x*y)\n",
        "print(x/y)\n",
        "print(x%y)\n",
        "print(x**y)\n",
        "print(x//y)"
      ]
    },
    {
      "cell_type": "markdown",
      "source": [
        "**Comparison operators**\n",
        "\n",
        "**==,!=,<=,>=,<,>**"
      ],
      "metadata": {
        "id": "jnDym7t_wCWd"
      }
    },
    {
      "cell_type": "code",
      "source": [
        "a=6\n",
        "b=9\n",
        "print(a==b)\n",
        "print(a!=b)\n",
        "print(a<=b)\n",
        "print(a>=b)\n",
        "print(a<b)\n",
        "print(a>b)"
      ],
      "metadata": {
        "colab": {
          "base_uri": "https://localhost:8080/"
        },
        "id": "sr1Y48zzwRCf",
        "outputId": "8fbb01fd-c9f7-4026-b18e-73fa33bbce6f"
      },
      "execution_count": null,
      "outputs": [
        {
          "output_type": "stream",
          "name": "stdout",
          "text": [
            "False\n",
            "True\n",
            "True\n",
            "False\n",
            "True\n",
            "False\n"
          ]
        }
      ]
    },
    {
      "cell_type": "markdown",
      "source": [
        "**Assignment operators**"
      ],
      "metadata": {
        "id": "P0CfUsCGwbIw"
      }
    },
    {
      "cell_type": "code",
      "source": [
        "x=9\n",
        "x+=3\n",
        "print(x)\n",
        "x-=3\n",
        "print(x)\n",
        "x*=3\n",
        "print(x)\n",
        "x/=3\n",
        "print(x)\n",
        "x%=3\n",
        "print(x)\n",
        "x//=3\n",
        "print(x)\n",
        "x**=3\n",
        "print(x)\n"
      ],
      "metadata": {
        "colab": {
          "base_uri": "https://localhost:8080/"
        },
        "id": "VHwGA7WzweOA",
        "outputId": "2b2af843-0a2a-4078-e9ca-657965ee79aa"
      },
      "execution_count": null,
      "outputs": [
        {
          "output_type": "stream",
          "name": "stdout",
          "text": [
            "12\n",
            "9\n",
            "27\n",
            "9.0\n",
            "0.0\n",
            "0.0\n",
            "0.0\n"
          ]
        }
      ]
    },
    {
      "cell_type": "markdown",
      "source": [
        "**Logical operator(and, or, not)**"
      ],
      "metadata": {
        "id": "kg0t3U5TwujJ"
      }
    },
    {
      "cell_type": "code",
      "source": [
        "x=True\n",
        "y=False\n",
        "print(x and y)\n",
        "print(x or y)\n",
        "print(not y)\n",
        "print(not x)\n"
      ],
      "metadata": {
        "colab": {
          "base_uri": "https://localhost:8080/"
        },
        "id": "-NsaN3bEw2JH",
        "outputId": "7921fab7-83ff-4f22-a066-f7009e2a6485"
      },
      "execution_count": null,
      "outputs": [
        {
          "output_type": "stream",
          "name": "stdout",
          "text": [
            "False\n",
            "True\n",
            "True\n",
            "False\n"
          ]
        }
      ]
    },
    {
      "cell_type": "markdown",
      "source": [
        "**Membership operator**"
      ],
      "metadata": {
        "id": "zFGn0nTczAZd"
      }
    },
    {
      "cell_type": "code",
      "source": [
        "name='tanisha'\n",
        "print('a' in name)\n",
        "print('tan' in name)\n",
        "print('zan' in name)\n",
        "print('a' not in name)\n",
        "print('tan' not in name)"
      ],
      "metadata": {
        "colab": {
          "base_uri": "https://localhost:8080/"
        },
        "id": "eE9fW_yzzCbN",
        "outputId": "63cafc42-a843-4e6a-fe63-049dc35679fe"
      },
      "execution_count": null,
      "outputs": [
        {
          "output_type": "stream",
          "name": "stdout",
          "text": [
            "True\n",
            "True\n",
            "False\n",
            "False\n",
            "False\n"
          ]
        }
      ]
    },
    {
      "cell_type": "markdown",
      "source": [
        "**IDENTITY OPERATOR**"
      ],
      "metadata": {
        "id": "nyYKJbWdzZ95"
      }
    },
    {
      "cell_type": "code",
      "source": [
        "a=[1,2,3]\n",
        "b=[1,2,3]\n",
        "print(a == b) #checks whether the elements are same or not\n",
        "print(a is b) #this checks memory address\n",
        "print(id(a)) #id() gives us the memory location of any variable\n",
        "print(id(b))"
      ],
      "metadata": {
        "colab": {
          "base_uri": "https://localhost:8080/"
        },
        "id": "YcDSpHfkzgYw",
        "outputId": "b021f245-12bd-471f-b942-bb231e94580c"
      },
      "execution_count": null,
      "outputs": [
        {
          "output_type": "stream",
          "name": "stdout",
          "text": [
            "True\n",
            "False\n",
            "140515358670720\n",
            "140515358461952\n"
          ]
        }
      ]
    },
    {
      "cell_type": "code",
      "source": [
        "a=12\n",
        "b=12\n",
        "print(a == b)\n",
        "print(a is b)\n",
        "print(id(a))\n",
        "print(id(b))"
      ],
      "metadata": {
        "colab": {
          "base_uri": "https://localhost:8080/"
        },
        "id": "0BdJcMI_0Ms9",
        "outputId": "142f9e55-6d42-4ce7-e18b-cda8ee08b190"
      },
      "execution_count": null,
      "outputs": [
        {
          "output_type": "stream",
          "name": "stdout",
          "text": [
            "True\n",
            "True\n",
            "140516641063504\n",
            "140516641063504\n"
          ]
        }
      ]
    },
    {
      "cell_type": "markdown",
      "source": [
        "**BITWISE OPERATOR**\n",
        "\n",
        "AND(&),OR(|) AND XOR(^)\n",
        "\n",
        "in this and,or,xor operations are perfomed on binary sequence of any teo decimal number and then the decimal value of resultant binary sequence is given as output"
      ],
      "metadata": {
        "id": "bm2Gm0p10_LF"
      }
    },
    {
      "cell_type": "code",
      "source": [
        "a=10\n",
        "b=4\n",
        "#10=1010\n",
        "#4=0100\n",
        "print(a&b)\n",
        "#1010 & 0100=0000 which is 0\n",
        "print(a|b)\n",
        "#1010 | 0100=1110 which is 14\n",
        "print(a^b)\n",
        "#1010 ^ 0100=1110 which is 14"
      ],
      "metadata": {
        "colab": {
          "base_uri": "https://localhost:8080/"
        },
        "id": "pa-8ODzV1EYr",
        "outputId": "05f5981b-cfd7-4901-d28d-a4aefd92410a"
      },
      "execution_count": null,
      "outputs": [
        {
          "output_type": "stream",
          "name": "stdout",
          "text": [
            "0\n",
            "14\n",
            "14\n"
          ]
        }
      ]
    },
    {
      "cell_type": "markdown",
      "source": [
        "ARITHMATIC OPERATOR(BODMAS)\n",
        "\n",
        "in python it works as PEMDAS\n",
        "\n",
        "Parenthesis\n",
        "\n",
        "Exponent\n",
        "\n",
        "Multiply or Division whichever coomes first\n",
        "\n",
        "Addition or subtraction whichever is first"
      ],
      "metadata": {
        "id": "_xj7vmqC3LNp"
      }
    },
    {
      "cell_type": "code",
      "source": [
        "1+5/5*6+4-7**2"
      ],
      "metadata": {
        "colab": {
          "base_uri": "https://localhost:8080/"
        },
        "id": "3q-Ihxhi37vg",
        "outputId": "bc65bf84-2b62-400b-c671-8bfe095369f6"
      },
      "execution_count": null,
      "outputs": [
        {
          "output_type": "execute_result",
          "data": {
            "text/plain": [
              "-38.0"
            ]
          },
          "metadata": {},
          "execution_count": 9
        }
      ]
    }
  ]
}