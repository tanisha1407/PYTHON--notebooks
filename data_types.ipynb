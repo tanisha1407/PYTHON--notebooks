{
  "nbformat": 4,
  "nbformat_minor": 0,
  "metadata": {
    "colab": {
      "provenance": [],
      "authorship_tag": "ABX9TyPyYJ00TLaoH55yJi1kMIq1",
      "include_colab_link": true
    },
    "kernelspec": {
      "name": "python3",
      "display_name": "Python 3"
    },
    "language_info": {
      "name": "python"
    }
  },
  "cells": [
    {
      "cell_type": "markdown",
      "metadata": {
        "id": "view-in-github",
        "colab_type": "text"
      },
      "source": [
        "<a href=\"https://colab.research.google.com/github/tanisha1407/PYTHON--notebooks/blob/master/data_types.ipynb\" target=\"_parent\"><img src=\"https://colab.research.google.com/assets/colab-badge.svg\" alt=\"Open In Colab\"/></a>"
      ]
    },
    {
      "cell_type": "markdown",
      "source": [
        "**DATA TYPES**\n",
        "\n",
        "\n",
        "---NUMERIC DATA TYPE= int,float,complex\n",
        "\n",
        "---MAPPING DATA TYPE=dictionaries\n",
        "\n",
        "---CHARATCER DATA TYPE= string,list,tuple\n",
        "\n",
        "---NONE DATA TYPE= none\n",
        "\n",
        "---BOOLEAN DATA TYPE= true or false\n",
        "\n",
        "--SET DAATA TYPE\n",
        "\n",
        "type keyword showS the class or type of data\n",
        "\n",
        "\n",
        "\n",
        "\n",
        "\n"
      ],
      "metadata": {
        "id": "htLUEBvLOSVs"
      }
    },
    {
      "cell_type": "markdown",
      "source": [],
      "metadata": {
        "id": "yWa9BnjROt3m"
      }
    },
    {
      "cell_type": "code",
      "execution_count": null,
      "metadata": {
        "id": "ICEmbwKoIznP",
        "colab": {
          "base_uri": "https://localhost:8080/"
        },
        "outputId": "fee5472f-7cc9-4989-a923-aad589affd32"
      },
      "outputs": [
        {
          "output_type": "stream",
          "name": "stdout",
          "text": [
            "<class 'int'>\n",
            "<class 'float'>\n",
            "<class 'complex'>\n"
          ]
        }
      ],
      "source": [
        "a=4\n",
        "print(type(a))\n",
        "a=4.2\n",
        "print(type(a))\n",
        "a=4+2j\n",
        "print(type(a))"
      ]
    },
    {
      "cell_type": "code",
      "source": [
        "d='jaipur'\n",
        "print(type(d))"
      ],
      "metadata": {
        "colab": {
          "base_uri": "https://localhost:8080/"
        },
        "id": "SyjT3_cfO7T-",
        "outputId": "43723d34-4b3f-4e36-a790-377e9f8e2885"
      },
      "execution_count": null,
      "outputs": [
        {
          "output_type": "stream",
          "name": "stdout",
          "text": [
            "<class 'str'>\n"
          ]
        }
      ]
    },
    {
      "cell_type": "code",
      "source": [
        "A=[1,2,3,4]\n",
        "print(type(A))"
      ],
      "metadata": {
        "colab": {
          "base_uri": "https://localhost:8080/"
        },
        "id": "avogMEFxaiTt",
        "outputId": "7c6f97b9-0357-4a4a-a1da-7c31d33134e6"
      },
      "execution_count": null,
      "outputs": [
        {
          "output_type": "stream",
          "name": "stdout",
          "text": [
            "<class 'list'>\n"
          ]
        }
      ]
    },
    {
      "cell_type": "code",
      "source": [
        "B=(1,2,3,4)\n",
        "print(type(B))"
      ],
      "metadata": {
        "colab": {
          "base_uri": "https://localhost:8080/"
        },
        "id": "EKZ5xYf1am0e",
        "outputId": "8d410794-8e25-4726-f30e-3bfb69ee1b71"
      },
      "execution_count": null,
      "outputs": [
        {
          "output_type": "stream",
          "name": "stdout",
          "text": [
            "<class 'tuple'>\n"
          ]
        }
      ]
    },
    {
      "cell_type": "code",
      "source": [
        "D={'name':'tanisha','city':'jaipur'}\n",
        "print(type(D))"
      ],
      "metadata": {
        "colab": {
          "base_uri": "https://localhost:8080/"
        },
        "id": "iB4w9KtlaqTq",
        "outputId": "c2539982-5294-4b0e-efde-1421087b0406"
      },
      "execution_count": null,
      "outputs": [
        {
          "output_type": "stream",
          "name": "stdout",
          "text": [
            "<class 'dict'>\n"
          ]
        }
      ]
    },
    {
      "cell_type": "code",
      "source": [
        "a=None\n",
        "print(type(a))"
      ],
      "metadata": {
        "colab": {
          "base_uri": "https://localhost:8080/"
        },
        "id": "Xcgd6MwZa6AZ",
        "outputId": "22729947-f5f1-4d77-ac8c-8e846aeb0325"
      },
      "execution_count": null,
      "outputs": [
        {
          "output_type": "stream",
          "name": "stdout",
          "text": [
            "<class 'NoneType'>\n"
          ]
        }
      ]
    },
    {
      "cell_type": "code",
      "source": [
        "a={1,2,4,5}\n",
        "print(type(a))"
      ],
      "metadata": {
        "colab": {
          "base_uri": "https://localhost:8080/"
        },
        "id": "Ak1HJwHWU4Xc",
        "outputId": "5cef3d68-8721-4518-a4c1-e0f8c3d8970f"
      },
      "execution_count": 1,
      "outputs": [
        {
          "output_type": "stream",
          "name": "stdout",
          "text": [
            "<class 'set'>\n"
          ]
        }
      ]
    }
  ]
}