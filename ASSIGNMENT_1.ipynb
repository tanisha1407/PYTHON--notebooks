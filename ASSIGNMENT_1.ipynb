{
  "nbformat": 4,
  "nbformat_minor": 0,
  "metadata": {
    "colab": {
      "provenance": [],
      "include_colab_link": true
    },
    "kernelspec": {
      "name": "python3",
      "display_name": "Python 3"
    },
    "language_info": {
      "name": "python"
    }
  },
  "cells": [
    {
      "cell_type": "markdown",
      "metadata": {
        "id": "view-in-github",
        "colab_type": "text"
      },
      "source": [
        "<a href=\"https://colab.research.google.com/github/tanisha1407/python-notebooks/blob/master/ASSIGNMENT_1.ipynb\" target=\"_parent\"><img src=\"https://colab.research.google.com/assets/colab-badge.svg\" alt=\"Open In Colab\"/></a>"
      ]
    },
    {
      "cell_type": "markdown",
      "source": [
        "Question: What will be the output of the following code?\n",
        "\n",
        "\n",
        "x = 5,\n",
        "\n",
        "y = 3.2,\n",
        "\n",
        "z = \"Hello\",\n",
        "\n",
        "print(x + y),\n",
        "\n",
        "print(z + \" WORLD\"),"
      ],
      "metadata": {
        "id": "41ww73XYUOC1"
      }
    },
    {
      "cell_type": "code",
      "execution_count": null,
      "metadata": {
        "colab": {
          "base_uri": "https://localhost:8080/"
        },
        "id": "k4Ai-yo4ULpQ",
        "outputId": "464b50aa-fa96-4930-ba61-e6718d1a5b8c"
      },
      "outputs": [
        {
          "output_type": "stream",
          "name": "stdout",
          "text": [
            "8.2\n",
            "HelloWORLD\n"
          ]
        }
      ],
      "source": [
        "x=5\n",
        "y=3.2\n",
        "z=\"Hello\"\n",
        "print(x+y)\n",
        "print(z+\"WORLD\")"
      ]
    },
    {
      "cell_type": "markdown",
      "source": [
        "Question: Write a Python function is_even that takes an integer as an argument and returns True if\n",
        "the number is even, and False otherwise.\n",
        "\n",
        "\n",
        "\n",
        "\n",
        "def is_even(num):\n",
        "return num % 2 == 0"
      ],
      "metadata": {
        "id": "lj8VUl0_VjJW"
      }
    },
    {
      "cell_type": "markdown",
      "source": [
        "Question:What will be the result of the following expression?\n",
        "\n",
        "result = 10 % 3\n",
        "\n",
        "print(result)"
      ],
      "metadata": {
        "id": "PSHHCZiKWOsJ"
      }
    },
    {
      "cell_type": "code",
      "source": [
        "result=10%3\n",
        "print(result)"
      ],
      "metadata": {
        "colab": {
          "base_uri": "https://localhost:8080/"
        },
        "id": "1lZn9kJVWZHV",
        "outputId": "25ae0fcd-3b24-4e81-82a6-bcb93069df58"
      },
      "execution_count": null,
      "outputs": [
        {
          "output_type": "stream",
          "name": "stdout",
          "text": [
            "1\n"
          ]
        }
      ]
    },
    {
      "cell_type": "markdown",
      "source": [
        "Question: What does the expression 7 != 5 evaluate to?"
      ],
      "metadata": {
        "id": "e-MqusMsWkT0"
      }
    },
    {
      "cell_type": "code",
      "source": [
        "print(7!=5)\n"
      ],
      "metadata": {
        "colab": {
          "base_uri": "https://localhost:8080/"
        },
        "id": "K178_fBrWoFO",
        "outputId": "60cd88ad-d312-4f06-ba2d-64792cf60048"
      },
      "execution_count": null,
      "outputs": [
        {
          "output_type": "stream",
          "name": "stdout",
          "text": [
            "True\n"
          ]
        }
      ]
    },
    {
      "cell_type": "markdown",
      "source": [
        "Question: What will be the result of the following expression?\n",
        "\n",
        "x = True\n",
        "\n",
        "y = False\n",
        "\n",
        "result = x and y\n",
        "\n",
        "print(result)"
      ],
      "metadata": {
        "id": "JTyc3tIWWudd"
      }
    },
    {
      "cell_type": "code",
      "source": [
        "x = True\n",
        "\n",
        "y = False\n",
        "\n",
        "result = x and y\n",
        "\n",
        "print(result)"
      ],
      "metadata": {
        "colab": {
          "base_uri": "https://localhost:8080/"
        },
        "id": "iChFfcywWzTE",
        "outputId": "9642dc18-5c4f-4ae5-b1a3-a8f4fb6500d5"
      },
      "execution_count": null,
      "outputs": [
        {
          "output_type": "stream",
          "name": "stdout",
          "text": [
            "False\n"
          ]
        }
      ]
    },
    {
      "cell_type": "markdown",
      "source": [
        "Question: What will be the value of a after the following code is executed?\n",
        "\n",
        "a = 5\n",
        "\n",
        "a += 3"
      ],
      "metadata": {
        "id": "g0vzG92FW40k"
      }
    },
    {
      "cell_type": "code",
      "source": [
        "a=5\n",
        "a+=3\n",
        "print(a)"
      ],
      "metadata": {
        "colab": {
          "base_uri": "https://localhost:8080/"
        },
        "id": "RfhmsfhZW98K",
        "outputId": "3eeee0f1-05b5-4998-86a5-8bb85b4ed9f1"
      },
      "execution_count": null,
      "outputs": [
        {
          "output_type": "stream",
          "name": "stdout",
          "text": [
            "8\n"
          ]
        }
      ]
    },
    {
      "cell_type": "markdown",
      "source": [
        "Question: What is the result of the following operation?\n",
        "\n",
        "greeting = \"Hello,\" + \"World!\"\n",
        "\n",
        "print(greeting)"
      ],
      "metadata": {
        "id": "S-NUVXFdXIRa"
      }
    },
    {
      "cell_type": "code",
      "source": [
        "gretting=\"Hello,\"+\"World!\"\n",
        "print(gretting)"
      ],
      "metadata": {
        "colab": {
          "base_uri": "https://localhost:8080/"
        },
        "id": "mvX-ivKqXR82",
        "outputId": "01a05f6d-f5e3-4d49-f44c-5fd89eec399b"
      },
      "execution_count": null,
      "outputs": [
        {
          "output_type": "stream",
          "name": "stdout",
          "text": [
            "Hello,World!\n"
          ]
        }
      ]
    },
    {
      "cell_type": "markdown",
      "source": [
        "Question: What will be the result of the following code?\n",
        "\n",
        "repeated = \"Python\" * 3 print(repeated)"
      ],
      "metadata": {
        "id": "7DIwSfVgXV9X"
      }
    },
    {
      "cell_type": "code",
      "source": [
        "repeated=\"Python\"*3\n",
        "print(repeated)"
      ],
      "metadata": {
        "colab": {
          "base_uri": "https://localhost:8080/"
        },
        "id": "zxnEBR8SXd9Z",
        "outputId": "baa79109-19e6-4714-f2ae-ae2a41e70569"
      },
      "execution_count": null,
      "outputs": [
        {
          "output_type": "stream",
          "name": "stdout",
          "text": [
            "PythonPythonPython\n"
          ]
        }
      ]
    },
    {
      "cell_type": "markdown",
      "source": [
        "Question: What will be the result of converting the string \"42\" to an integer and adding 8?\n",
        "\n",
        "number = int(\"42\") + 8\n",
        "\n",
        "print(number)"
      ],
      "metadata": {
        "id": "PxywCVlRXlqv"
      }
    },
    {
      "cell_type": "code",
      "source": [
        "number=int(\"42\")+8\n",
        "print(number)\n"
      ],
      "metadata": {
        "colab": {
          "base_uri": "https://localhost:8080/"
        },
        "id": "fuv80FMQXtDC",
        "outputId": "ede400b5-c52f-4900-f068-cb032d0c0c9d"
      },
      "execution_count": null,
      "outputs": [
        {
          "output_type": "stream",
          "name": "stdout",
          "text": [
            "50\n"
          ]
        }
      ]
    },
    {
      "cell_type": "markdown",
      "source": [
        "Question: What will be the result of the following code?\n",
        "\n",
        "result = 17 // 4\n",
        "\n",
        "print(result)"
      ],
      "metadata": {
        "id": "BGd0VCLDX1R8"
      }
    },
    {
      "cell_type": "code",
      "source": [
        "result=17//4\n",
        "print(result)"
      ],
      "metadata": {
        "colab": {
          "base_uri": "https://localhost:8080/"
        },
        "id": "_IaxQS3BX4nn",
        "outputId": "afe75db9-868a-48ee-8f50-6f86bd5d9d6f"
      },
      "execution_count": null,
      "outputs": [
        {
          "output_type": "stream",
          "name": "stdout",
          "text": [
            "4\n"
          ]
        }
      ]
    }
  ]
}