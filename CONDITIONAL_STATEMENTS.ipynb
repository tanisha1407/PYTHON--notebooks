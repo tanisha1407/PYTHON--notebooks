{
  "nbformat": 4,
  "nbformat_minor": 0,
  "metadata": {
    "colab": {
      "provenance": [],
      "authorship_tag": "ABX9TyN4ombLXGcOVifaE1LnL+Vh",
      "include_colab_link": true
    },
    "kernelspec": {
      "name": "python3",
      "display_name": "Python 3"
    },
    "language_info": {
      "name": "python"
    }
  },
  "cells": [
    {
      "cell_type": "markdown",
      "metadata": {
        "id": "view-in-github",
        "colab_type": "text"
      },
      "source": [
        "<a href=\"https://colab.research.google.com/github/tanisha1407/python-notebooks/blob/master/CONDITIONAL_STATEMENTS.ipynb\" target=\"_parent\"><img src=\"https://colab.research.google.com/assets/colab-badge.svg\" alt=\"Open In Colab\"/></a>"
      ]
    },
    {
      "cell_type": "markdown",
      "source": [
        "***CONDITIONAL STATEMENTS***\n",
        "\n",
        "--if else\n",
        "\n",
        "--if elif else\n",
        "\n",
        "--if------condition (1)\n",
        "\n",
        "--elif   condition(multiple)\n",
        "\n",
        "--else  (1)\n",
        "\n",
        "--The elif keyword is Python's way of saying \"if the previous conditions were not true, then try this condition\".\n",
        "\n",
        "--The else keyword catches anything which isn't caught by the preceding conditions.\n",
        "\n",
        "--If you have only one statement to execute, you can put it on the same line as the if statement."
      ],
      "metadata": {
        "id": "97PNsJkKEefH"
      }
    },
    {
      "cell_type": "markdown",
      "source": [
        "**if elif else**\n",
        "\n",
        "syntax:\n",
        "\n",
        "    if(condition):\n",
        "    #code\n",
        "    elif(condition):\n",
        "    #code\n",
        "    elif(condition):\n",
        "    #code\n",
        "    else:\n",
        "    #code"
      ],
      "metadata": {
        "id": "XjlLs81RE7mn"
      }
    },
    {
      "cell_type": "code",
      "execution_count": null,
      "metadata": {
        "colab": {
          "base_uri": "https://localhost:8080/"
        },
        "id": "zGYmM2WsEdBv",
        "outputId": "bb8a5acb-a4de-498b-c4b2-2269a6c39449"
      },
      "outputs": [
        {
          "output_type": "stream",
          "name": "stdout",
          "text": [
            "enter a number-4\n",
            "negative\n"
          ]
        }
      ],
      "source": [
        "x=int(input(\"enter a number=\"))\n",
        "if(x>0):\n",
        "  print(\"positive\")\n",
        "elif(x<0):\n",
        "  print(\"negative\")\n",
        "\n",
        "else:\n",
        "  print(\"zero\")"
      ]
    },
    {
      "cell_type": "code",
      "source": [
        "x=int(input(\"enter a number=\"))\n",
        "if(x>0):\n",
        "  print(\"positive\")\n",
        "elif(x<0):\n",
        "  print(\"negative\")\n",
        "\n",
        "else:\n",
        "  print(\"zero\")"
      ],
      "metadata": {
        "colab": {
          "base_uri": "https://localhost:8080/"
        },
        "id": "pYrU7NbcFsEX",
        "outputId": "2916476a-b21f-4f54-db4e-d47db376a007"
      },
      "execution_count": null,
      "outputs": [
        {
          "output_type": "stream",
          "name": "stdout",
          "text": [
            "enter a number=5\n",
            "positive\n"
          ]
        }
      ]
    },
    {
      "cell_type": "code",
      "source": [
        "x=int(input(\"enter a number=\"))\n",
        "if(x>0):\n",
        "  print(\"positive\")\n",
        "elif(x<0):\n",
        "  print(\"negative\")\n",
        "\n",
        "else:\n",
        "  print(\"zero\")"
      ],
      "metadata": {
        "colab": {
          "base_uri": "https://localhost:8080/"
        },
        "id": "GJSW9xYWFwm_",
        "outputId": "cadc3bdd-cde2-476b-cdf5-90718cc62159"
      },
      "execution_count": null,
      "outputs": [
        {
          "output_type": "stream",
          "name": "stdout",
          "text": [
            "enter a number=0\n",
            "zero\n"
          ]
        }
      ]
    },
    {
      "cell_type": "code",
      "source": [
        "x=int(input(\"enter a number=\"))\n",
        "if x>6:\n",
        "  print(\"greater than 6\")\n",
        "  if x>10:\n",
        "    print(\"greater than 10\")\n",
        "  else:\n",
        "    print(\"less than 10\")\n",
        "else:\n",
        "  print(\"less than 6\")\n"
      ],
      "metadata": {
        "colab": {
          "base_uri": "https://localhost:8080/"
        },
        "id": "FnT99-sLGBvH",
        "outputId": "617bda73-f305-4bfb-d52e-84423727da02"
      },
      "execution_count": null,
      "outputs": [
        {
          "output_type": "stream",
          "name": "stdout",
          "text": [
            "enter a number=5\n",
            "less than 6\n"
          ]
        }
      ]
    },
    {
      "cell_type": "code",
      "source": [
        "x=int(input(\"enter a number=\"))\n",
        "if x>6:\n",
        "  print(\"greater than 6\")\n",
        "  if x>10:\n",
        "    print(\"greater than 10\")\n",
        "  else:\n",
        "    print(\"less than 10\")\n",
        "else:\n",
        "  print(\"less than 6\")"
      ],
      "metadata": {
        "colab": {
          "base_uri": "https://localhost:8080/"
        },
        "id": "1XBbw5qyGQLt",
        "outputId": "c48689b2-9fc4-4285-ffd9-4cc121097822"
      },
      "execution_count": null,
      "outputs": [
        {
          "output_type": "stream",
          "name": "stdout",
          "text": [
            "enter a number=10\n",
            "greater than 6\n",
            "less than 10\n"
          ]
        }
      ]
    },
    {
      "cell_type": "code",
      "source": [
        "a=int(input(\"enter a number=\"))\n",
        "if(a%2==0):\n",
        "  print(\"even\")\n",
        "else:\n",
        "  print(\"odd\")"
      ],
      "metadata": {
        "colab": {
          "base_uri": "https://localhost:8080/"
        },
        "id": "u35uTJYNG4Oe",
        "outputId": "e0e894b3-e2e9-4d57-c7de-8698d05a9f30"
      },
      "execution_count": null,
      "outputs": [
        {
          "output_type": "stream",
          "name": "stdout",
          "text": [
            "enter a number=9\n",
            "odd\n"
          ]
        }
      ]
    },
    {
      "cell_type": "code",
      "source": [
        "a=int(input(\"enter a number=\"))\n",
        "if(a%2==0):\n",
        "  print(\"even\")\n",
        "else:\n",
        "  print(\"odd\")"
      ],
      "metadata": {
        "colab": {
          "base_uri": "https://localhost:8080/"
        },
        "id": "5te5_n6CG7Fz",
        "outputId": "21f6fac6-dac7-48f8-fffa-ae19de144376"
      },
      "execution_count": null,
      "outputs": [
        {
          "output_type": "stream",
          "name": "stdout",
          "text": [
            "enter a number=90\n",
            "even\n"
          ]
        }
      ]
    },
    {
      "cell_type": "code",
      "source": [
        "a=int(input(\"enter a number=\"))\n",
        "if(a%2==0):\n",
        "  print(\"even\")\n",
        "  if(a%4==0):\n",
        "    print(\"divisible by 4\")\n",
        "  elif(a%8==0):\n",
        "    print(\"divisible by 8\")\n",
        "else:\n",
        "    print(\"not divisible by 4 and 8\")\n"
      ],
      "metadata": {
        "colab": {
          "base_uri": "https://localhost:8080/"
        },
        "id": "65Sjlu5IHOvy",
        "outputId": "6dc3218c-e8b4-4a12-839b-4c070d02d768"
      },
      "execution_count": null,
      "outputs": [
        {
          "output_type": "stream",
          "name": "stdout",
          "text": [
            "enter a number=88\n",
            "even\n",
            "divisible by 4\n"
          ]
        }
      ]
    },
    {
      "cell_type": "code",
      "source": [
        "a=int(input(\"enter a number=\"))\n",
        "b=int(input(\"enter a number=\"))\n",
        "if(a>b):\n",
        "  print(\"a is greater\")\n",
        "else:\n",
        "  print(\"b is greater\")"
      ],
      "metadata": {
        "colab": {
          "base_uri": "https://localhost:8080/"
        },
        "id": "xTMFjCM8IbVy",
        "outputId": "35c3c188-639f-4332-e4c5-5c6fc12b4478"
      },
      "execution_count": null,
      "outputs": [
        {
          "output_type": "stream",
          "name": "stdout",
          "text": [
            "enter a number=56\n",
            "enter a number=45\n",
            "a is greater\n"
          ]
        }
      ]
    },
    {
      "cell_type": "code",
      "source": [
        "a=int(input(\"enter a number=\"))\n",
        "b=int(input(\"enter a number=\"))\n",
        "if a > b: print(\"a is greater than b\") #only one statement can be put  on the same line as the if statement"
      ],
      "metadata": {
        "colab": {
          "base_uri": "https://localhost:8080/"
        },
        "id": "sSi44IoiIfGw",
        "outputId": "86213382-a5d4-4c89-b6bf-550e54d5ca8c"
      },
      "execution_count": null,
      "outputs": [
        {
          "output_type": "stream",
          "name": "stdout",
          "text": [
            "enter a number=98\n",
            "enter a number=78\n",
            "a is greater than b\n"
          ]
        }
      ]
    },
    {
      "cell_type": "code",
      "source": [
        "x=int(input(\"enter a number=\"))\n",
        "\n",
        "if x > 10:\n",
        "  print(\"Above ten,\")\n",
        "  if x > 20:\n",
        "    print(\"and also above 20!\")\n",
        "  else:\n",
        "    print(\"but not above 20.\")\n"
      ],
      "metadata": {
        "colab": {
          "base_uri": "https://localhost:8080/"
        },
        "id": "oS60Vh_nI-PR",
        "outputId": "a2a75543-45f5-4e7f-8da6-baac170f4a79"
      },
      "execution_count": null,
      "outputs": [
        {
          "output_type": "stream",
          "name": "stdout",
          "text": [
            "enter a number=56\n",
            "Above ten,\n",
            "and also above 20!\n"
          ]
        }
      ]
    }
  ]
}