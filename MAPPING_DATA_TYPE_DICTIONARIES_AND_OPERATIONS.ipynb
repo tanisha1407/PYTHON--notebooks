{
  "nbformat": 4,
  "nbformat_minor": 0,
  "metadata": {
    "colab": {
      "provenance": [],
      "authorship_tag": "ABX9TyMFqsdar5SqI8En+BXEWNjI",
      "include_colab_link": true
    },
    "kernelspec": {
      "name": "python3",
      "display_name": "Python 3"
    },
    "language_info": {
      "name": "python"
    }
  },
  "cells": [
    {
      "cell_type": "markdown",
      "metadata": {
        "id": "view-in-github",
        "colab_type": "text"
      },
      "source": [
        "<a href=\"https://colab.research.google.com/github/tanisha1407/python-notebooks/blob/master/MAPPING_DATA_TYPE_DICTIONARIES_AND_OPERATIONS.ipynb\" target=\"_parent\"><img src=\"https://colab.research.google.com/assets/colab-badge.svg\" alt=\"Open In Colab\"/></a>"
      ]
    },
    {
      "cell_type": "markdown",
      "source": [
        "**MAPPING**\n",
        "\n",
        "--Mappig data type includes dictionary\n",
        "\n",
        "--used in data science\n",
        "\n",
        "--Can be created using curly braces\n",
        "\n",
        "syntax:my_dict={'key1':value,'key2':value,'key3':value,....}\n",
        "\n",
        "ex-mydict={'name':'tanisha','city':'jaipur','age':20,'id':22}\n",
        "\n",
        "--Keys should be unique and immutable\n",
        "\n",
        "--Values does not need to be unique\n",
        "\n",
        "--Can also be created by using constructor\n",
        "\n",
        "syntax:dict()constructor\n",
        "\n",
        "ex-mydict=dict(name='tanisha',city='jaipur',age=20)\n"
      ],
      "metadata": {
        "id": "JQ3Wz5D8Kekv"
      }
    },
    {
      "cell_type": "code",
      "execution_count": null,
      "metadata": {
        "colab": {
          "base_uri": "https://localhost:8080/"
        },
        "id": "Xdk_iVO1KdIv",
        "outputId": "24c94c65-a480-4206-87e5-c3543ca9c465"
      },
      "outputs": [
        {
          "output_type": "stream",
          "name": "stdout",
          "text": [
            "A= {'name': 'tanisha', 'city': 'jaipur', 'age': 20, 'id': 22, 'course': 'data science'}\n",
            "B= {'name': 'tanisha', 'city': 'jaipur', 'age': 20}\n"
          ]
        }
      ],
      "source": [
        "A={'name':'tanisha','city':'jaipur','age':20,'id':22,'course':'data science'} #by using curly braces\n",
        "print('A=',A)\n",
        "B=dict(name='tanisha',city='jaipur',age=20)#by using constructor\n",
        "print('B=',B)"
      ]
    },
    {
      "cell_type": "markdown",
      "source": [
        "**ACCESSING AN ELEMENT**\n",
        "\n",
        "--Accessing element in a dictionary is also done by two methods by square bracket or get method\n",
        "\n",
        "syntax:dictionaryname[key] #square bracket method\n",
        "\n",
        "ex-print(A['name'])\n",
        "\n",
        "syntax:dictionaryname.get(key)\n",
        "\n",
        "ex-print(B.get('name'))\n",
        "\n",
        "--when we are given a nested dictionary ={'key1':{'key2':'value'}}\n",
        "\n",
        "syntax:dictioaryname([parent key],[nested key])"
      ],
      "metadata": {
        "id": "hUJGe9iSQYHf"
      }
    },
    {
      "cell_type": "code",
      "source": [
        "print('##Accesing name from A')\n",
        "print(A['name'])#by using square bracket method\n",
        "print('##Accesing course from A')\n",
        "print(A.get('course'))\n",
        "print(B.get('pincode','try something else'))#pincode doesnt exists in dictionary so it print other arguement\n",
        "d = {'customer': {'name':'tanisha'}}\n",
        "print(d['customer']['name'])"
      ],
      "metadata": {
        "colab": {
          "base_uri": "https://localhost:8080/",
          "height": 228
        },
        "id": "TEtK1jweTAVk",
        "outputId": "9bf6499a-622f-4a24-c9cd-c8ff90fb5903"
      },
      "execution_count": null,
      "outputs": [
        {
          "output_type": "stream",
          "name": "stdout",
          "text": [
            "##Accesing name from A\n"
          ]
        },
        {
          "output_type": "error",
          "ename": "NameError",
          "evalue": "name 'A' is not defined",
          "traceback": [
            "\u001b[0;31m---------------------------------------------------------------------------\u001b[0m",
            "\u001b[0;31mNameError\u001b[0m                                 Traceback (most recent call last)",
            "\u001b[0;32m<ipython-input-1-565f6c0d4449>\u001b[0m in \u001b[0;36m<cell line: 2>\u001b[0;34m()\u001b[0m\n\u001b[1;32m      1\u001b[0m \u001b[0mprint\u001b[0m\u001b[0;34m(\u001b[0m\u001b[0;34m'##Accesing name from A'\u001b[0m\u001b[0;34m)\u001b[0m\u001b[0;34m\u001b[0m\u001b[0;34m\u001b[0m\u001b[0m\n\u001b[0;32m----> 2\u001b[0;31m \u001b[0mprint\u001b[0m\u001b[0;34m(\u001b[0m\u001b[0mA\u001b[0m\u001b[0;34m[\u001b[0m\u001b[0;34m'name'\u001b[0m\u001b[0;34m]\u001b[0m\u001b[0;34m)\u001b[0m\u001b[0;31m#by using square bracket method\u001b[0m\u001b[0;34m\u001b[0m\u001b[0;34m\u001b[0m\u001b[0m\n\u001b[0m\u001b[1;32m      3\u001b[0m \u001b[0mprint\u001b[0m\u001b[0;34m(\u001b[0m\u001b[0;34m'##Accesing course from A'\u001b[0m\u001b[0;34m)\u001b[0m\u001b[0;34m\u001b[0m\u001b[0;34m\u001b[0m\u001b[0m\n\u001b[1;32m      4\u001b[0m \u001b[0mprint\u001b[0m\u001b[0;34m(\u001b[0m\u001b[0mA\u001b[0m\u001b[0;34m.\u001b[0m\u001b[0mget\u001b[0m\u001b[0;34m(\u001b[0m\u001b[0;34m'course'\u001b[0m\u001b[0;34m)\u001b[0m\u001b[0;34m)\u001b[0m\u001b[0;34m\u001b[0m\u001b[0;34m\u001b[0m\u001b[0m\n\u001b[1;32m      5\u001b[0m \u001b[0mprint\u001b[0m\u001b[0;34m(\u001b[0m\u001b[0mB\u001b[0m\u001b[0;34m.\u001b[0m\u001b[0mget\u001b[0m\u001b[0;34m(\u001b[0m\u001b[0;34m'pincode'\u001b[0m\u001b[0;34m,\u001b[0m\u001b[0;34m'try something else'\u001b[0m\u001b[0;34m)\u001b[0m\u001b[0;34m)\u001b[0m\u001b[0;31m#pincode doesnt exists in dictionary so it print other arguement\u001b[0m\u001b[0;34m\u001b[0m\u001b[0;34m\u001b[0m\u001b[0m\n",
            "\u001b[0;31mNameError\u001b[0m: name 'A' is not defined"
          ]
        }
      ]
    },
    {
      "cell_type": "markdown",
      "source": [
        "**UPDATING ELEMENTS IN A DICTIONARY**\n",
        "\n",
        "--dictionaryname['key']='updated_value'"
      ],
      "metadata": {
        "id": "E3jkuk6FU9TN"
      }
    },
    {
      "cell_type": "code",
      "source": [
        "print('##Updating name to manvi  and city to indore and adding pincode in B')\n",
        "B['name']='manvi' #updating values to any key\n",
        "print(B)\n",
        "B['city']='indore'\n",
        "print(B)\n",
        "B['pincode']=302026\n",
        "print(B)"
      ],
      "metadata": {
        "colab": {
          "base_uri": "https://localhost:8080/"
        },
        "id": "Tgnpi1_XTL2w",
        "outputId": "7ffc7ea4-4f01-4936-c1e5-7bf518f6ca36"
      },
      "execution_count": null,
      "outputs": [
        {
          "output_type": "stream",
          "name": "stdout",
          "text": [
            "##Updating name to manvi  and city to indore and adding pincode in mydict\n",
            "{'name': 'manvi', 'city': 'jaipur', 'age': 20}\n",
            "{'name': 'manvi', 'city': 'indore', 'age': 20}\n",
            "{'name': 'manvi', 'city': 'indore', 'age': 20, 'pincode': 302026}\n"
          ]
        }
      ]
    },
    {
      "cell_type": "markdown",
      "source": [
        "**MODIFY OR ADD ELEMENTS**\n",
        "\n",
        "--dictionaryname['newkey']='value'"
      ],
      "metadata": {
        "id": "Es5T2fdYUSBT"
      }
    },
    {
      "cell_type": "code",
      "source": [
        "A['stream']='data analytics'\n",
        "print(A)\n",
        "B['father']='tapan jain'\n",
        "print(B)"
      ],
      "metadata": {
        "colab": {
          "base_uri": "https://localhost:8080/"
        },
        "id": "vBLX9CktUhvV",
        "outputId": "3e631dd4-ff2d-4cd1-fae5-7d76fd420380"
      },
      "execution_count": null,
      "outputs": [
        {
          "output_type": "stream",
          "name": "stdout",
          "text": [
            "{'name': 'tanisha', 'id': 22, 'course': 'data science', 'stream': 'data analytics'}\n",
            "{'name': 'manvi', 'city': 'indore', 'age': 20, 'pincode': 302026, 'father': 'tapan jain'}\n"
          ]
        }
      ]
    },
    {
      "cell_type": "markdown",
      "source": [
        "**DELETING AN KEY AND ITS VALUE**\n",
        "\n",
        "-- del keyword is used\n",
        "\n",
        "syntax: del dictionaryname['key']\n",
        "\n",
        "--pop method\n",
        "\n",
        "dictionaryname.pop('key)\n",
        "\n"
      ],
      "metadata": {
        "id": "Lzy1vOMKRuwh"
      }
    },
    {
      "cell_type": "code",
      "source": [
        "A1={'name':'tanisha','city':'jaipur','age':20,'id':22,'course':'data science'}\n",
        "print(A1)\n",
        "del A1['course']\n",
        "print(A1)\n",
        "A1.pop('age')\n",
        "print(A1)\n",
        "a=A1.pop('id')\n",
        "print(a)\n"
      ],
      "metadata": {
        "colab": {
          "base_uri": "https://localhost:8080/"
        },
        "id": "qXEkCAk1Yg1l",
        "outputId": "f8a4c99d-cf89-4852-d0c3-f2114d8c13a9"
      },
      "execution_count": null,
      "outputs": [
        {
          "output_type": "stream",
          "name": "stdout",
          "text": [
            "{'name': 'tanisha', 'city': 'jaipur', 'age': 20, 'id': 22, 'course': 'data science'}\n",
            "{'name': 'tanisha', 'city': 'jaipur', 'age': 20, 'id': 22}\n",
            "{'name': 'tanisha', 'city': 'jaipur', 'id': 22}\n",
            "22\n"
          ]
        }
      ]
    },
    {
      "cell_type": "markdown",
      "source": [
        "**BUILT IN METHODS**\n",
        "\n",
        "--key() will print alll keys in dictionary(list)\n",
        "\n",
        "--values() will print alll values in dictionary(list)\n",
        "\n",
        "--items() will print all key value pairs in the dictionary\n",
        "\n",
        "--update() can add multiple key value pairs or another dictionary into an existing dictionary\n",
        "\n",
        "--clear() will delete all key value pairs of dictionary"
      ],
      "metadata": {
        "id": "mT7GiODlWP90"
      }
    },
    {
      "cell_type": "code",
      "source": [
        "C={'office':'regeex','hr':['prachi','karishma'],'city':'jaipur'}\n",
        "print(C)\n",
        "print(C.keys())\n",
        "print(C.values())\n",
        "print(C.items())\n",
        "print(C.update({'course':'data science','area':'gopalpura','trainer':'snigdha'}))\n",
        "print(C)\n",
        "C.clear()\n",
        "print(C)"
      ],
      "metadata": {
        "colab": {
          "base_uri": "https://localhost:8080/"
        },
        "id": "MAVGW9WtXPmY",
        "outputId": "e43921cc-f97e-4ea2-d73e-b8886d2e5c2c"
      },
      "execution_count": null,
      "outputs": [
        {
          "output_type": "stream",
          "name": "stdout",
          "text": [
            "{'office': 'regeex', 'hr': ['prachi', 'karishma'], 'city': 'jaipur'}\n",
            "dict_keys(['office', 'hr', 'city'])\n",
            "dict_values(['regeex', ['prachi', 'karishma'], 'jaipur'])\n",
            "dict_items([('office', 'regeex'), ('hr', ['prachi', 'karishma']), ('city', 'jaipur')])\n",
            "None\n",
            "{'office': 'regeex', 'hr': ['prachi', 'karishma'], 'city': 'jaipur', 'course': 'data science', 'area': 'gopalpura', 'trainer': 'snigdha'}\n",
            "{}\n"
          ]
        }
      ]
    }
  ]
}