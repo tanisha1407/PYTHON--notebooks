{
  "nbformat": 4,
  "nbformat_minor": 0,
  "metadata": {
    "colab": {
      "provenance": [],
      "authorship_tag": "ABX9TyNHT6yAASmtkPfobokU4tWa",
      "include_colab_link": true
    },
    "kernelspec": {
      "name": "python3",
      "display_name": "Python 3"
    },
    "language_info": {
      "name": "python"
    }
  },
  "cells": [
    {
      "cell_type": "markdown",
      "metadata": {
        "id": "view-in-github",
        "colab_type": "text"
      },
      "source": [
        "<a href=\"https://colab.research.google.com/github/tanisha1407/PYTHON--notebooks/blob/master/ASSIGNMENT_3.ipynb\" target=\"_parent\"><img src=\"https://colab.research.google.com/assets/colab-badge.svg\" alt=\"Open In Colab\"/></a>"
      ]
    },
    {
      "cell_type": "markdown",
      "source": [
        "**QUESTION---CREATE A STRING AND PERFORM INDEXING ANS SLICING OVER IT.**"
      ],
      "metadata": {
        "id": "0adTWhVcGYaA"
      }
    },
    {
      "cell_type": "code",
      "execution_count": null,
      "metadata": {
        "colab": {
          "base_uri": "https://localhost:8080/"
        },
        "id": "F7dFYbIWGR_6",
        "outputId": "1ddf7d37-49bc-4d7b-dde5-e5c393cedcad"
      },
      "outputs": [
        {
          "output_type": "stream",
          "name": "stdout",
          "text": [
            "n\n",
            "t\n",
            "n\n",
            "i\n",
            "e\n",
            "a\n",
            "ssig\n",
            "3tnemn\n",
            "3tnemngissa\n",
            "ine\n",
            "asgmn\n",
            "\n"
          ]
        }
      ],
      "source": [
        "a='assignment3'\n",
        "#indexing\n",
        "print(a[5])\n",
        "print(a[9])\n",
        "print(a[-3])\n",
        "print(a[-8])\n",
        "print(a[7])\n",
        "print(a[0])\n",
        "#slicing\n",
        "print(a[1:5:1])\n",
        "print(a[-1:-7:-1])\n",
        "print(a[::-1])\n",
        "print(a[3:9:2])\n",
        "print(a[0:9:2])\n",
        "print(a[-1:-9:3])\n",
        "\n"
      ]
    },
    {
      "cell_type": "markdown",
      "source": [
        "**QUESTION---CREATE A DICTIONARY AND PERFORM VARIOUS OPERATION OVER IT.**"
      ],
      "metadata": {
        "id": "2PeLleeGHxKI"
      }
    },
    {
      "cell_type": "code",
      "source": [
        "a=dict(company='INFOSYS',location='INDORE,MP',employee_count=100,hr='MR.JAIN',manager= 'MR.SHARMA',office_count=3,departments=7) #by using constructor\n",
        "print(a)\n",
        "print(a.get('company')) #by using get()\n",
        "print(a['location']) #by using []\n",
        "print(a.get('employee_count'))\n",
        "print(a.get('pincode','try something else')) #pincode isn't there so try something else will be output\n",
        "a['office_count']=5  #updating key value\n",
        "a['departments']=9\n",
        "print(a)\n",
        "a['hod_count']=7 #adding key\n",
        "a['email']='infosys.indore@gmail.com' #adding key\n",
        "print(a)\n",
        "print(a.keys()) #printing all keys\n",
        "print(a.values()) #printing all values\n",
        "print(a.items()) #printing all key value paira\n",
        "print(a.update({'pincode':452001,'area':'vijay nagar','contact':1122334455})) #updating key value pairs\n",
        "print(a)\n",
        "del a['hod_count'] #deleting key\n",
        "print(a)\n",
        "x=a.pop('email') #printing deleted key as a variable\n",
        "print(x)\n",
        "print(a)\n",
        "a.clear() #clearing dictionary\n",
        "print(a)\n",
        "\n"
      ],
      "metadata": {
        "colab": {
          "base_uri": "https://localhost:8080/"
        },
        "id": "SEq0sYfWH5wq",
        "outputId": "285523e8-176b-478a-c14d-0c9f40eb609a"
      },
      "execution_count": null,
      "outputs": [
        {
          "output_type": "stream",
          "name": "stdout",
          "text": [
            "{'company': 'INFOSYS', 'location': 'INDORE,MP', 'employee_count': 100, 'hr': 'MR.JAIN', 'manager': 'MR.SHARMA', 'office_count': 3, 'departments': 7}\n",
            "INFOSYS\n",
            "INDORE,MP\n",
            "100\n",
            "try something else\n",
            "{'company': 'INFOSYS', 'location': 'INDORE,MP', 'employee_count': 100, 'hr': 'MR.JAIN', 'manager': 'MR.SHARMA', 'office_count': 5, 'departments': 9}\n",
            "{'company': 'INFOSYS', 'location': 'INDORE,MP', 'employee_count': 100, 'hr': 'MR.JAIN', 'manager': 'MR.SHARMA', 'office_count': 5, 'departments': 9, 'hod_count': 7, 'email': 'infosys.indore@gmail.com'}\n",
            "dict_keys(['company', 'location', 'employee_count', 'hr', 'manager', 'office_count', 'departments', 'hod_count', 'email'])\n",
            "dict_values(['INFOSYS', 'INDORE,MP', 100, 'MR.JAIN', 'MR.SHARMA', 5, 9, 7, 'infosys.indore@gmail.com'])\n",
            "dict_items([('company', 'INFOSYS'), ('location', 'INDORE,MP'), ('employee_count', 100), ('hr', 'MR.JAIN'), ('manager', 'MR.SHARMA'), ('office_count', 5), ('departments', 9), ('hod_count', 7), ('email', 'infosys.indore@gmail.com')])\n",
            "None\n",
            "{'company': 'INFOSYS', 'location': 'INDORE,MP', 'employee_count': 100, 'hr': 'MR.JAIN', 'manager': 'MR.SHARMA', 'office_count': 5, 'departments': 9, 'hod_count': 7, 'email': 'infosys.indore@gmail.com', 'pincode': 452001, 'area': 'vijay nagar', 'contact': 1122334455}\n",
            "{'company': 'INFOSYS', 'location': 'INDORE,MP', 'employee_count': 100, 'hr': 'MR.JAIN', 'manager': 'MR.SHARMA', 'office_count': 5, 'departments': 9, 'email': 'infosys.indore@gmail.com', 'pincode': 452001, 'area': 'vijay nagar', 'contact': 1122334455}\n",
            "infosys.indore@gmail.com\n",
            "{'company': 'INFOSYS', 'location': 'INDORE,MP', 'employee_count': 100, 'hr': 'MR.JAIN', 'manager': 'MR.SHARMA', 'office_count': 5, 'departments': 9, 'pincode': 452001, 'area': 'vijay nagar', 'contact': 1122334455}\n",
            "{}\n"
          ]
        }
      ]
    },
    {
      "cell_type": "markdown",
      "source": [
        "**QUESTION---WRITE AN EXAMPLE FOR BOOL DATA TYPE.**"
      ],
      "metadata": {
        "id": "YtgIOxRJg6gR"
      }
    },
    {
      "cell_type": "code",
      "source": [
        "a=True\n",
        "b=False\n",
        "print(a)\n",
        "print(b)\n",
        "print(type(a))\n",
        "print(type(b))\n",
        "x=(1==3)\n",
        "y=(1==1)\n",
        "print(x)\n",
        "print(y)\n",
        "print(type(x))\n",
        "print(type(y))"
      ],
      "metadata": {
        "colab": {
          "base_uri": "https://localhost:8080/"
        },
        "id": "_PEbBKQDhCKE",
        "outputId": "495e226c-18d9-4ef1-d8ca-33a0750a92b7"
      },
      "execution_count": null,
      "outputs": [
        {
          "output_type": "stream",
          "name": "stdout",
          "text": [
            "True\n",
            "False\n",
            "<class 'bool'>\n",
            "<class 'bool'>\n",
            "False\n",
            "True\n",
            "<class 'bool'>\n",
            "<class 'bool'>\n"
          ]
        }
      ]
    },
    {
      "cell_type": "markdown",
      "source": [
        "**QUESTION---WRITE AN EXAMPLE FOR NONE DATA TYPE.**"
      ],
      "metadata": {
        "id": "LPfCljVDho93"
      }
    },
    {
      "cell_type": "code",
      "source": [
        "a=None\n",
        "print(a)\n",
        "print(type(a))"
      ],
      "metadata": {
        "colab": {
          "base_uri": "https://localhost:8080/"
        },
        "id": "ifnEwyThhu5x",
        "outputId": "7e9dcdf8-1a9e-4fe2-8897-e52c2ed3400f"
      },
      "execution_count": null,
      "outputs": [
        {
          "output_type": "stream",
          "name": "stdout",
          "text": [
            "None\n",
            "<class 'NoneType'>\n"
          ]
        }
      ]
    }
  ]
}