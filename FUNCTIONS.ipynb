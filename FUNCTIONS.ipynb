{
  "nbformat": 4,
  "nbformat_minor": 0,
  "metadata": {
    "colab": {
      "provenance": [],
      "authorship_tag": "ABX9TyMFxibEp1mSF+0lVri9gh0u",
      "include_colab_link": true
    },
    "kernelspec": {
      "name": "python3",
      "display_name": "Python 3"
    },
    "language_info": {
      "name": "python"
    }
  },
  "cells": [
    {
      "cell_type": "markdown",
      "metadata": {
        "id": "view-in-github",
        "colab_type": "text"
      },
      "source": [
        "<a href=\"https://colab.research.google.com/github/tanisha1407/PYTHON--notebooks/blob/master/FUNCTIONS.ipynb\" target=\"_parent\"><img src=\"https://colab.research.google.com/assets/colab-badge.svg\" alt=\"Open In Colab\"/></a>"
      ]
    },
    {
      "cell_type": "markdown",
      "source": [
        "**ROUND FUNCTION**\n",
        "\n",
        "--syntax: round(value,no.of places)\n",
        "--round function m do arguement aate hai ek toh original number and no of places agar positive hai toh deciml ke right aur negative hai to decimal ke left"
      ],
      "metadata": {
        "id": "FoQrKv0tJk3j"
      }
    },
    {
      "cell_type": "code",
      "source": [
        "a=round(0.6,5)\n",
        "b=round(0.3,5)\n",
        "print(a==b)\n"
      ],
      "metadata": {
        "id": "hIxsOZxUH6Vc",
        "outputId": "654e4d16-fd7d-4a3c-9dd4-4cd0a63cda6c",
        "colab": {
          "base_uri": "https://localhost:8080/"
        }
      },
      "execution_count": null,
      "outputs": [
        {
          "output_type": "stream",
          "name": "stdout",
          "text": [
            "False\n"
          ]
        }
      ]
    },
    {
      "cell_type": "markdown",
      "source": [
        "**JOIN FUNCTION**\n",
        "\n",
        "joins string or concanates them\n",
        "\n",
        "syyntax: ''.join(string,string,string....)\n",
        "\n"
      ],
      "metadata": {
        "id": "dX7cVjudKQio"
      }
    },
    {
      "cell_type": "code",
      "execution_count": null,
      "metadata": {
        "id": "zwFnJsE6vjf8",
        "colab": {
          "base_uri": "https://localhost:8080/"
        },
        "outputId": "4aeb3f80-a15a-408e-aff5-3ee694f6a46e"
      },
      "outputs": [
        {
          "output_type": "stream",
          "name": "stdout",
          "text": [
            "tanishajain\n"
          ]
        }
      ],
      "source": [
        "a='tanisha'\n",
        "b='jain'\n",
        "print(''.join([a,b]))"
      ]
    }
  ]
}