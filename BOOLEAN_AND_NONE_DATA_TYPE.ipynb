{
  "nbformat": 4,
  "nbformat_minor": 0,
  "metadata": {
    "colab": {
      "provenance": [],
      "authorship_tag": "ABX9TyMnsx3/toCVrE6NNWx1U14V",
      "include_colab_link": true
    },
    "kernelspec": {
      "name": "python3",
      "display_name": "Python 3"
    },
    "language_info": {
      "name": "python"
    }
  },
  "cells": [
    {
      "cell_type": "markdown",
      "metadata": {
        "id": "view-in-github",
        "colab_type": "text"
      },
      "source": [
        "<a href=\"https://colab.research.google.com/github/tanisha1407/PYTHON--notebooks/blob/master/BOOLEAN_AND_NONE_DATA_TYPE.ipynb\" target=\"_parent\"><img src=\"https://colab.research.google.com/assets/colab-badge.svg\" alt=\"Open In Colab\"/></a>"
      ]
    },
    {
      "cell_type": "markdown",
      "source": [
        "**BOOLEAN DATA TYPE**\n",
        "\n",
        "--either true or  false value\n",
        "\n",
        "--ex: is-passed=true or false\n",
        "\n",
        " is placed=true or false"
      ],
      "metadata": {
        "id": "C0qz2BO7bGan"
      }
    },
    {
      "cell_type": "markdown",
      "source": [
        "**NONE DATA TYPE**\n",
        "\n",
        "when the value is none it is none data type"
      ],
      "metadata": {
        "id": "tcd2muj3cOHp"
      }
    },
    {
      "cell_type": "code",
      "execution_count": null,
      "metadata": {
        "id": "sfxAHjlKbDdt"
      },
      "outputs": [],
      "source": []
    }
  ]
}