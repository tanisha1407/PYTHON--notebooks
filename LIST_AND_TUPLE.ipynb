{
  "nbformat": 4,
  "nbformat_minor": 0,
  "metadata": {
    "colab": {
      "provenance": [],
      "authorship_tag": "ABX9TyO4C21QQajhFaNAqFDt1D7H",
      "include_colab_link": true
    },
    "kernelspec": {
      "name": "python3",
      "display_name": "Python 3"
    },
    "language_info": {
      "name": "python"
    }
  },
  "cells": [
    {
      "cell_type": "markdown",
      "metadata": {
        "id": "view-in-github",
        "colab_type": "text"
      },
      "source": [
        "<a href=\"https://colab.research.google.com/github/tanisha1407/PYTHON--notebooks/blob/master/LIST_AND_TUPLE.ipynb\" target=\"_parent\"><img src=\"https://colab.research.google.com/assets/colab-badge.svg\" alt=\"Open In Colab\"/></a>"
      ]
    },
    {
      "cell_type": "markdown",
      "source": [
        "**LIST AND TUPLE**\n",
        "\n"
      ],
      "metadata": {
        "id": "1i-jobGdQavO"
      }
    },
    {
      "cell_type": "markdown",
      "source": [
        "### list\n",
        "\n",
        "starts with square bracket and all the elements are separated by coma\n",
        "\n",
        "we can add any data type in a list\n",
        "\n",
        "it is a mutable data type i.e any changes can be made\n",
        "\n",
        "slower than tuple because it is dynamic(changes can be made in this)\n",
        "\n",
        "it is ordered collection and this order cannott be changed"
      ],
      "metadata": {
        "id": "MmRCge_RPXq7"
      }
    },
    {
      "cell_type": "code",
      "source": [
        "f=[1,2,3,1.4,5,'tani']\n",
        "print(type(f))"
      ],
      "metadata": {
        "colab": {
          "base_uri": "https://localhost:8080/"
        },
        "id": "DRzIVMGVPXP0",
        "outputId": "a316c325-a1f9-4c25-f2f0-c628ef1be16f"
      },
      "execution_count": null,
      "outputs": [
        {
          "output_type": "stream",
          "name": "stdout",
          "text": [
            "<class 'list'>\n"
          ]
        }
      ]
    },
    {
      "cell_type": "code",
      "source": [],
      "metadata": {
        "id": "oEtDpCd5PoNc"
      },
      "execution_count": null,
      "outputs": []
    },
    {
      "cell_type": "markdown",
      "source": [
        "### tuple\n",
        "\n",
        "starts with parenthesis() and elements are separated by coma\n",
        "\n",
        "it is faster than list because it is static\n",
        "\n",
        "it is immutable and no changes can be made\n",
        "\n",
        "also an ordered collection\n",
        "\n",
        "\n"
      ],
      "metadata": {
        "id": "5BP5_Wc6PnLh"
      }
    },
    {
      "cell_type": "code",
      "source": [
        "g=(1,2,3,4,5)\n",
        "print(type(g))"
      ],
      "metadata": {
        "colab": {
          "base_uri": "https://localhost:8080/"
        },
        "id": "nLSv6H10Pe-y",
        "outputId": "33b6b1e1-5ab7-4d45-9e49-097955636885"
      },
      "execution_count": null,
      "outputs": [
        {
          "output_type": "stream",
          "name": "stdout",
          "text": [
            "<class 'tuple'>\n"
          ]
        }
      ]
    },
    {
      "cell_type": "markdown",
      "source": [
        "***OPERATION ON LIST***\n",
        "\n",
        "> Add blockquote\n",
        "\n",
        "\n",
        "\n",
        "-append\n",
        "\n",
        "-insert\n",
        "\n",
        "-extend\n",
        "\n",
        "-pop\n",
        "\n",
        "-remove\n",
        "\n",
        "-index\n",
        "\n",
        "-sort\n",
        "\n",
        "-reverse\n",
        "\n",
        "-copy\n",
        "\n",
        "-clear\n",
        "\n",
        "-slicing"
      ],
      "metadata": {
        "id": "Hq7tTW_VoUdh"
      }
    },
    {
      "cell_type": "markdown",
      "source": [
        "**INDEXING**"
      ],
      "metadata": {
        "id": "cP5on-NKpD5l"
      }
    },
    {
      "cell_type": "code",
      "source": [
        "f=[1,2.5,3,4,'tanisha',5]\n",
        "print(f[-6])\n",
        "print(f[0:5])   #slicing\n",
        "print(f[0:5:2]) #slicing with stepsize\n",
        "print(g[2:6:2]) #here apfter apple 3.8 was to be printed but its out of perimterr so skipped\n",
        "print(g[4:11:3])"
      ],
      "metadata": {
        "colab": {
          "base_uri": "https://localhost:8080/"
        },
        "id": "yp4S7zk5Rth0",
        "outputId": "334001f9-702b-455d-c7fb-b3973928c564"
      },
      "execution_count": null,
      "outputs": [
        {
          "output_type": "stream",
          "name": "stdout",
          "text": [
            "1\n",
            "[1, 2.5, 3, 4, 'tanisha']\n",
            "[1, 3, 'tanisha']\n"
          ]
        }
      ]
    },
    {
      "cell_type": "markdown",
      "source": [
        "**SLICING**\n",
        "\n",
        "to takee out some particular part of list\n",
        "\n",
        "syntax:print(listname[start_index:last_element+1index:stepsize(if you want to skip some element no.of element+1)])"
      ],
      "metadata": {
        "id": "ZimiQ9UppH0e"
      }
    },
    {
      "cell_type": "code",
      "source": [
        "g=[1,2,3.6,4,'apple',2,3.8,9.8,10,'guava',34,'jaipur']\n",
        "print(g[-1:-5:-1])#negative slicing needs negative stepsize\n",
        "print(g[-1:-4:-2])\n",
        "print(g[-3:-8:-2])\n",
        "print(g[-3:-8:-2])\n",
        "print(g[-2:-8:2])\n",
        "print(g[-4:-1:-2])#empty output because step ccount is in left\n",
        "print(g[-4:-1:1])\n",
        "print(g[-2:-6:-3])\n",
        "print(g[1:8:-2])#empty output because positive indexing and negative step size"
      ],
      "metadata": {
        "colab": {
          "base_uri": "https://localhost:8080/"
        },
        "id": "xcXmCuD3Wo56",
        "outputId": "671ccb73-6bc6-4a49-89c0-993d1ec7b0ac"
      },
      "execution_count": null,
      "outputs": [
        {
          "output_type": "stream",
          "name": "stdout",
          "text": [
            "['jaipur', 34, 'guava', 10]\n",
            "['jaipur', 'guava']\n",
            "['guava', 9.8, 2]\n",
            "['guava', 9.8, 2]\n",
            "[]\n",
            "[]\n",
            "[10, 'guava', 34]\n",
            "[34, 9.8]\n",
            "[]\n"
          ]
        }
      ]
    },
    {
      "cell_type": "markdown",
      "source": [
        "**APPEND**\n",
        "\n",
        "to add any single element at last of the list\n",
        "\n",
        "syntax:listname.append(element)"
      ],
      "metadata": {
        "id": "-POe9jNhplrA"
      }
    },
    {
      "cell_type": "code",
      "execution_count": null,
      "metadata": {
        "colab": {
          "base_uri": "https://localhost:8080/"
        },
        "id": "9eOTA1-_oDj8",
        "outputId": "c6545b32-51a6-4270-dfbf-8ea1d73a9a8e"
      },
      "outputs": [
        {
          "output_type": "stream",
          "name": "stdout",
          "text": [
            "[1, 3.4, 5, 6]\n"
          ]
        }
      ],
      "source": [
        "a=[1,3.4,5]\n",
        "a.append(6)\n",
        "print(a)\n",
        "a.append('tanisha')\n",
        "print(a)"
      ]
    },
    {
      "cell_type": "markdown",
      "source": [
        "**EXTEND**\n",
        "\n",
        "to add multiple elements at end of list\n",
        "\n",
        "syntax:listname.extend([element,element...])"
      ],
      "metadata": {
        "id": "MU-4NW5Tp9ux"
      }
    },
    {
      "cell_type": "code",
      "source": [
        "a=[1,3.4,5]\n",
        "a.extend([6,'tanisha'])\n",
        "print(a)"
      ],
      "metadata": {
        "colab": {
          "base_uri": "https://localhost:8080/"
        },
        "id": "GLBjA4BGqkmy",
        "outputId": "77a736f7-1ab3-4902-83a3-d83bc7e306b6"
      },
      "execution_count": null,
      "outputs": [
        {
          "output_type": "stream",
          "name": "stdout",
          "text": [
            "[1, 3.4, 5, 6, 'tanisha']\n"
          ]
        }
      ]
    },
    {
      "cell_type": "markdown",
      "source": [
        "**INSERT**\n",
        "\n",
        "to add element at any index in the list\n",
        "\n",
        "syntax: listname.insert(index,element)"
      ],
      "metadata": {
        "id": "ut1-g5pMqXKP"
      }
    },
    {
      "cell_type": "code",
      "source": [
        "a=[1,3.4,5]\n",
        "a.insert(1,'tanisha')\n",
        "print(a)"
      ],
      "metadata": {
        "colab": {
          "base_uri": "https://localhost:8080/"
        },
        "id": "JPpeYS-oqqyV",
        "outputId": "0412c8ce-cfa3-410a-f92a-bc986bb61411"
      },
      "execution_count": null,
      "outputs": [
        {
          "output_type": "stream",
          "name": "stdout",
          "text": [
            "[1, 'tanisha', 3.4, 5]\n"
          ]
        }
      ]
    },
    {
      "cell_type": "markdown",
      "source": [
        "**REMOVE**\n",
        "\n",
        "to remove any element from list\n",
        "\n",
        "syntax: listname.remove(element)\n",
        "\n",
        "if element is reperated then the first one occuring will get removed\n",
        "\n",
        "if no arguement given then it gives error because atleat one arguement is required"
      ],
      "metadata": {
        "id": "TUNbWH4tqulo"
      }
    },
    {
      "cell_type": "code",
      "source": [
        "a=[1,2,4,1,2]\n",
        "a.remove(2)\n",
        "print(a)"
      ],
      "metadata": {
        "colab": {
          "base_uri": "https://localhost:8080/"
        },
        "id": "_xwcNFqXrFk-",
        "outputId": "ee9087d1-13c2-40b4-d241-487becfdf947"
      },
      "execution_count": null,
      "outputs": [
        {
          "output_type": "stream",
          "name": "stdout",
          "text": [
            "[1, 4, 1, 2]\n"
          ]
        }
      ]
    },
    {
      "cell_type": "markdown",
      "source": [
        "**POP**\n",
        "\n",
        "removes any element by its index\n",
        "\n",
        "syntax:listname.pop(index of element)\n",
        "\n",
        "if not arguement given it removes last element of list\n"
      ],
      "metadata": {
        "id": "ti5wA2RCrTNa"
      }
    },
    {
      "cell_type": "code",
      "source": [
        "a=[1,3.4,5,'tanisha']\n",
        "a.pop(3)\n",
        "print(a)"
      ],
      "metadata": {
        "colab": {
          "base_uri": "https://localhost:8080/"
        },
        "id": "x_AYxH5TrfAO",
        "outputId": "3e3ea362-7bbf-420a-9f97-afe51c92d266"
      },
      "execution_count": null,
      "outputs": [
        {
          "output_type": "stream",
          "name": "stdout",
          "text": [
            "[1, 3.4, 5]\n"
          ]
        }
      ]
    },
    {
      "cell_type": "markdown",
      "source": [
        "**CLEAR**\n",
        "\n",
        "clears all elements of list\n",
        "\n",
        "syntax:listname.clear()\n",
        "\n",
        "this takes no arguement"
      ],
      "metadata": {
        "id": "HiJaNeVLt-91"
      }
    },
    {
      "cell_type": "code",
      "source": [
        "a=[1,2,4,1,2]\n",
        "a.clear()\n",
        "print(a)\n"
      ],
      "metadata": {
        "colab": {
          "base_uri": "https://localhost:8080/"
        },
        "id": "SuFiwW7huMAE",
        "outputId": "83e84d50-9adb-4c04-e4b5-834492e01c46"
      },
      "execution_count": null,
      "outputs": [
        {
          "output_type": "stream",
          "name": "stdout",
          "text": [
            "[]\n"
          ]
        }
      ]
    },
    {
      "cell_type": "markdown",
      "source": [
        "**SORT**\n",
        "\n",
        "to sort the list either in ascending or descending order\n",
        "\n",
        "syntax:listname.sort()#ascending\n",
        "\n",
        "syntax:listname.sort(reverse=true)#descending\n",
        "\n",
        "a list with both int and string elements cant be sorted\n",
        "\n"
      ],
      "metadata": {
        "id": "Bs5hHP89ubl3"
      }
    },
    {
      "cell_type": "code",
      "source": [
        "a=[1,15,4,3.4,10,11,12,13]\n",
        "a.sort()\n",
        "print(a)\n",
        "a.sort(reverse=True)\n",
        "print(a)"
      ],
      "metadata": {
        "colab": {
          "base_uri": "https://localhost:8080/"
        },
        "id": "Bd1QGk9OvVTI",
        "outputId": "143ba146-e4fd-4cc1-a7a5-05114afe1e09"
      },
      "execution_count": null,
      "outputs": [
        {
          "output_type": "stream",
          "name": "stdout",
          "text": [
            "[1, 3.4, 4, 10, 11, 12, 13, 15]\n",
            "[15, 13, 12, 11, 10, 4, 3.4, 1]\n"
          ]
        }
      ]
    },
    {
      "cell_type": "markdown",
      "source": [
        "**REVERSE**\n",
        "\n",
        "reverses the list\n",
        "\n",
        "syntax:listname.reverse()\n",
        "\n",
        "accepts all data types"
      ],
      "metadata": {
        "id": "cLvMYjmQvD74"
      }
    },
    {
      "cell_type": "code",
      "source": [
        "a=[1,15,4,'tanisha',3.4,10,11,12,13]\n",
        "a.reverse()\n",
        "print(a)"
      ],
      "metadata": {
        "colab": {
          "base_uri": "https://localhost:8080/"
        },
        "id": "tR5Vttdrvu9F",
        "outputId": "51df6c5c-ba5e-41d0-e414-8b64243d69a4"
      },
      "execution_count": null,
      "outputs": [
        {
          "output_type": "stream",
          "name": "stdout",
          "text": [
            "[13, 12, 11, 10, 3.4, 'tanisha', 4, 15, 1]\n"
          ]
        }
      ]
    },
    {
      "cell_type": "markdown",
      "source": [
        "**COPY**\n",
        "\n",
        "copies a list1 into another list2\n",
        "\n",
        "syntax:\n",
        "list2=list1.copy()"
      ],
      "metadata": {
        "id": "QzOwIWcUuWA1"
      }
    },
    {
      "cell_type": "code",
      "source": [
        "a=[1,15,4,'tanisha',3.4,10,11,12,13]\n",
        "b=a.copy()\n",
        "print(b)"
      ],
      "metadata": {
        "colab": {
          "base_uri": "https://localhost:8080/"
        },
        "id": "TBIZy9Q_v2YX",
        "outputId": "c8906d38-85a9-47ff-baba-88079cf0404c"
      },
      "execution_count": null,
      "outputs": [
        {
          "output_type": "stream",
          "name": "stdout",
          "text": [
            "[1, 15, 4, 'tanisha', 3.4, 10, 11, 12, 13]\n"
          ]
        }
      ]
    },
    {
      "cell_type": "markdown",
      "source": [
        "**COUNT**\n",
        "\n",
        "counts the element occurence\n",
        "\n",
        "syntax:listname.count(element)"
      ],
      "metadata": {
        "id": "Qq1A1imVx2bq"
      }
    },
    {
      "cell_type": "code",
      "source": [
        "a=[1,15,4,'apple',3.4,10,11,12,13,13]\n",
        "print(a.count(13))\n",
        "print(a.count('apple'))\n"
      ],
      "metadata": {
        "colab": {
          "base_uri": "https://localhost:8080/"
        },
        "id": "AdaqUfw7yiwn",
        "outputId": "39188c1e-7d08-4064-f788-78c3b2b049e0"
      },
      "execution_count": null,
      "outputs": [
        {
          "output_type": "stream",
          "name": "stdout",
          "text": [
            "2\n",
            "1\n"
          ]
        }
      ]
    },
    {
      "cell_type": "markdown",
      "source": [
        "**LEN**\n",
        "\n",
        "counts the element of a list\n",
        "\n",
        "syntax:len(listname)"
      ],
      "metadata": {
        "id": "kxXrvFOVzKUn"
      }
    },
    {
      "cell_type": "code",
      "source": [
        "a=[1,15,4,'apple',3.4,10,11,12,13]\n",
        "print(len(a))"
      ],
      "metadata": {
        "colab": {
          "base_uri": "https://localhost:8080/"
        },
        "id": "Z8ugdxfYzR4K",
        "outputId": "e708f215-b99f-4a26-cb49-c3234d0d76a0"
      },
      "execution_count": null,
      "outputs": [
        {
          "output_type": "stream",
          "name": "stdout",
          "text": [
            "9\n"
          ]
        }
      ]
    },
    {
      "cell_type": "markdown",
      "source": [
        "**MIN AND MAX**\n",
        "\n",
        "gives the mininum  and maximum element in a list\n",
        "\n",
        "syntax:min(listname)\n",
        "\n",
        "syntax:max(listname)"
      ],
      "metadata": {
        "id": "BxL_HGyczeT3"
      }
    },
    {
      "cell_type": "code",
      "source": [
        "a=[1,15,4,3.4,10,11,12,13]\n",
        "print(min(a))\n",
        "print(max(a))"
      ],
      "metadata": {
        "colab": {
          "base_uri": "https://localhost:8080/"
        },
        "id": "Sm6xqT6W0jcN",
        "outputId": "7226fa33-f14d-47dc-a6d9-5d8f22e8910d"
      },
      "execution_count": null,
      "outputs": [
        {
          "output_type": "stream",
          "name": "stdout",
          "text": [
            "1\n",
            "15\n"
          ]
        }
      ]
    },
    {
      "cell_type": "markdown",
      "source": [
        "**INDEX**\n",
        "\n",
        "gives the index of any element\n",
        "\n",
        "syntax:listname.index(element,[start index for search],[end index for search])\n",
        "\n",
        "starting and ending are optional if you want"
      ],
      "metadata": {
        "id": "03Jirb8b0wav"
      }
    },
    {
      "cell_type": "code",
      "source": [
        "a=[1,15,4,'apple',3.4,10,11,12,13]\n",
        "print(a.index('apple'))\n",
        "print(a.index(11,3,7))"
      ],
      "metadata": {
        "colab": {
          "base_uri": "https://localhost:8080/"
        },
        "id": "ZT8-sAr91S8W",
        "outputId": "7f33e0ed-8c48-4a38-9197-edd311925084"
      },
      "execution_count": null,
      "outputs": [
        {
          "output_type": "stream",
          "name": "stdout",
          "text": [
            "3\n",
            "6\n"
          ]
        }
      ]
    },
    {
      "cell_type": "code",
      "source": [
        "a=[1,15,4,'apple',3.4,10,11,12,13]\n",
        "print('a=',a)\n",
        "print('--append 14 at end')\n",
        "a.append(14)\n",
        "print(a)\n",
        "print('--extend 2.3 and 1.3 at end')\n",
        "a.extend([2.3,1.3])\n",
        "print(a)\n",
        "print('--inserting--this is a list at 5th index')\n",
        "a.insert(5,'this is a list')\n",
        "print(a)\n",
        "print('-- removing--this is a list')\n",
        "a.remove('this is a list')\n",
        "print(a)\n",
        "print('--removing 5th index')\n",
        "a.pop(5)\n",
        "print(a)\n",
        "print('--clearing a')\n",
        "a.clear()\n",
        "print(a)\n",
        "x=[1,15,4,3.4,10,11,12,13,1,2,1,1,3,1,1,1]\n",
        "print('x=',x)\n",
        "print('--sorting in ascending order')\n",
        "x.sort()\n",
        "print(x)\n",
        "print('--sorting in descending order')\n",
        "x.sort(reverse=True)\n",
        "print('--reversing x')\n",
        "print(x)\n",
        "x.reverse()\n",
        "print(x)\n",
        "print('--copying x into y')\n",
        "y=x.copy()\n",
        "print(y)\n",
        "print('--count no of times  1 is occuring')\n",
        "print(x.count(1))\n",
        "print('--length of x')\n",
        "print(len(x))\n",
        "print('--minimum of x')\n",
        "print(min(x))\n",
        "print('--maximum of x')\n",
        "print(max(x))\n",
        "print('--index of 13')\n",
        "print(x.index(13))\n",
        "\n"
      ],
      "metadata": {
        "colab": {
          "base_uri": "https://localhost:8080/"
        },
        "id": "YjV6xhCurwB1",
        "outputId": "8e6ab40c-839a-4cd9-cff7-fa021974f8ac"
      },
      "execution_count": null,
      "outputs": [
        {
          "output_type": "stream",
          "name": "stdout",
          "text": [
            "a= [1, 15, 4, 'apple', 3.4, 10, 11, 12, 13]\n",
            "--append 14 at end\n",
            "[1, 15, 4, 'apple', 3.4, 10, 11, 12, 13, 14]\n",
            "--extend 2.3 and 1.3 at end\n",
            "[1, 15, 4, 'apple', 3.4, 10, 11, 12, 13, 14, 2.3, 1.3]\n",
            "--inserting--this is a list at 5th index\n",
            "[1, 15, 4, 'apple', 3.4, 'this is a list', 10, 11, 12, 13, 14, 2.3, 1.3]\n",
            "-- removing--this is a list\n",
            "[1, 15, 4, 'apple', 3.4, 10, 11, 12, 13, 14, 2.3, 1.3]\n",
            "--removing 5th index\n",
            "[1, 15, 4, 'apple', 3.4, 11, 12, 13, 14, 2.3, 1.3]\n",
            "--clearing a\n",
            "[]\n",
            "x= [1, 15, 4, 3.4, 10, 11, 12, 13, 1, 2, 1, 1, 3, 1, 1, 1]\n",
            "--sorting in ascending order\n",
            "[1, 1, 1, 1, 1, 1, 1, 2, 3, 3.4, 4, 10, 11, 12, 13, 15]\n",
            "--sorting in descending order\n",
            "--reversing x\n",
            "[15, 13, 12, 11, 10, 4, 3.4, 3, 2, 1, 1, 1, 1, 1, 1, 1]\n",
            "[1, 1, 1, 1, 1, 1, 1, 2, 3, 3.4, 4, 10, 11, 12, 13, 15]\n",
            "--copying x into y\n",
            "[1, 1, 1, 1, 1, 1, 1, 2, 3, 3.4, 4, 10, 11, 12, 13, 15]\n",
            "--count no of times  1 is occuring\n",
            "7\n",
            "--length of x\n",
            "16\n",
            "--minimum of x\n",
            "1\n",
            "--maximum of x\n",
            "15\n",
            "--index of 13\n",
            "14\n"
          ]
        }
      ]
    },
    {
      "cell_type": "code",
      "source": [
        "a=[1,'tani',2,3,4,5,1.2,1.2,1.2,3.4,5.6,10,'red','list is mine']\n",
        "print('a=',a)\n",
        "print(a.append(9))\n",
        "\n",
        "print(a.extend([10,11,12]))\n",
        "\n",
        "print(a.insert(7,2.3))\n",
        "\n",
        "print(a.pop(1))\n",
        "\n",
        "print(a.remove('red'))\n",
        "\n",
        "print(a.remove('list is mine'))\n",
        "\n",
        "print(max(a))\n",
        "print(min(a))\n",
        "print(a.sort())\n",
        "print(a.sort(reverse=True))\n",
        "print(aa.reverse())\n",
        "print(a)\n",
        "b=a.copy()\n",
        "print('b=',b)\n",
        "print(a.count(1.2))\n",
        "print(len(a))\n",
        "print(a.index(5))"
      ],
      "metadata": {
        "colab": {
          "base_uri": "https://localhost:8080/"
        },
        "id": "E-hBc-pnMDK3",
        "outputId": "29934959-946a-49f0-a560-939099f3faf5"
      },
      "execution_count": null,
      "outputs": [
        {
          "output_type": "stream",
          "name": "stdout",
          "text": [
            "None\n",
            "[1, 'tani', 2, 3, 4, 5, 1.2, 1.2, 1.2, 3.4, 5.6, 10, 'red', 'list is mine', 9]\n",
            "None\n",
            "[1, 'tani', 2, 3, 4, 5, 1.2, 1.2, 1.2, 3.4, 5.6, 10, 'red', 'list is mine', 9, 10, 11, 12]\n",
            "None\n",
            "[1, 'tani', 2, 3, 4, 5, 1.2, 2.3, 1.2, 1.2, 3.4, 5.6, 10, 'red', 'list is mine', 9, 10, 11, 12]\n",
            "tani\n",
            "[1, 2, 3, 4, 5, 1.2, 2.3, 1.2, 1.2, 3.4, 5.6, 10, 'red', 'list is mine', 9, 10, 11, 12]\n",
            "None\n",
            "[1, 2, 3, 4, 5, 1.2, 2.3, 1.2, 1.2, 3.4, 5.6, 10, 'list is mine', 9, 10, 11, 12]\n",
            "None\n",
            "[1, 2, 3, 4, 5, 1.2, 2.3, 1.2, 1.2, 3.4, 5.6, 10, 9, 10, 11, 12]\n",
            "12\n",
            "1\n",
            "[1, 1.2, 1.2, 1.2, 2, 2.3, 3, 3.4, 4, 5, 5.6, 9, 10, 10, 11, 12]\n",
            "[12, 11, 10, 10, 9, 5.6, 5, 4, 3.4, 3, 2.3, 2, 1.2, 1.2, 1.2, 1]\n",
            "[1, 1.2, 1.2, 1.2, 2, 2.3, 3, 3.4, 4, 5, 5.6, 9, 10, 10, 11, 12]\n",
            "b= [1, 1.2, 1.2, 1.2, 2, 2.3, 3, 3.4, 4, 5, 5.6, 9, 10, 10, 11, 12]\n",
            "3\n",
            "16\n",
            "9\n"
          ]
        }
      ]
    },
    {
      "cell_type": "markdown",
      "source": [
        "**OPERATION ON TUPLE**\n",
        "\n",
        "only count and index operation work on tuple in same way as lists"
      ],
      "metadata": {
        "id": "U2JIu9G4DPhw"
      }
    }
  ]
}