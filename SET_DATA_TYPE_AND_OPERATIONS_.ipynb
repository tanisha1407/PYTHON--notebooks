{
  "nbformat": 4,
  "nbformat_minor": 0,
  "metadata": {
    "colab": {
      "provenance": [],
      "authorship_tag": "ABX9TyNbc3YKPDjUk5ehmndmb5Oe",
      "include_colab_link": true
    },
    "kernelspec": {
      "name": "python3",
      "display_name": "Python 3"
    },
    "language_info": {
      "name": "python"
    }
  },
  "cells": [
    {
      "cell_type": "markdown",
      "metadata": {
        "id": "view-in-github",
        "colab_type": "text"
      },
      "source": [
        "<a href=\"https://colab.research.google.com/github/tanisha1407/python-notebooks/blob/master/SET_DATA_TYPE_AND_OPERATIONS_.ipynb\" target=\"_parent\"><img src=\"https://colab.research.google.com/assets/colab-badge.svg\" alt=\"Open In Colab\"/></a>"
      ]
    },
    {
      "cell_type": "markdown",
      "source": [
        "***SETS***\n",
        "\n",
        "--unordered\n",
        "\n",
        "--unindexed\n",
        "\n",
        "--The values True and 1 are considered the same value in sets, and are treated as duplicates.The values False and 0 are considered the same value in sets, and are treated as duplicate.\n",
        "\n",
        "--immutable collection pf items or elements\n",
        "\n",
        "--starts with curly braces\n",
        "\n",
        "\n",
        "USES:\n",
        "\n",
        "--it doenst allows duplicate values or automatically removes them\n",
        "\n",
        "--used for mathematical operations like union,intersection and difference\n",
        "\n",
        "--syntax:set_name={elements}\n",
        "\n",
        "--can be made using constructor\n",
        "\n",
        "syntax:setname=set()\n",
        "\n",
        "only one arguement in constructor method"
      ],
      "metadata": {
        "id": "ID05sb3L7CGd"
      }
    },
    {
      "cell_type": "code",
      "source": [
        "a={1,2,3,4} #using {}\n",
        "print(type(a))\n",
        "print(a)"
      ],
      "metadata": {
        "colab": {
          "base_uri": "https://localhost:8080/"
        },
        "id": "qcdTWB1T8HqU",
        "outputId": "98ad9223-294a-49b5-827e-e021ff637cf2"
      },
      "execution_count": null,
      "outputs": [
        {
          "output_type": "stream",
          "name": "stdout",
          "text": [
            "<class 'set'>\n",
            "{1, 2, 3, 4}\n"
          ]
        }
      ]
    },
    {
      "cell_type": "code",
      "source": [
        "b={1,2,3,4,4,4}\n",
        "print(b)\n"
      ],
      "metadata": {
        "colab": {
          "base_uri": "https://localhost:8080/"
        },
        "id": "nmKCtQRb8Pg3",
        "outputId": "de611504-cfa1-4192-ac7f-c4cb335ec458"
      },
      "execution_count": null,
      "outputs": [
        {
          "output_type": "stream",
          "name": "stdout",
          "text": [
            "{1, 2, 3, 4}\n"
          ]
        }
      ]
    },
    {
      "cell_type": "code",
      "source": [
        "fruits={\"apple\",\"banana\",\"cherry\"}\n",
        "print(fruits)"
      ],
      "metadata": {
        "colab": {
          "base_uri": "https://localhost:8080/"
        },
        "id": "l3fA7PdD8Wo1",
        "outputId": "3442e65c-86d7-4d33-f3c4-16144b56bd43"
      },
      "execution_count": null,
      "outputs": [
        {
          "output_type": "stream",
          "name": "stdout",
          "text": [
            "{'banana', 'cherry', 'apple'}\n"
          ]
        }
      ]
    },
    {
      "cell_type": "code",
      "source": [
        "c=set([1,2,3,4]) #using constructor\n",
        "print(c)"
      ],
      "metadata": {
        "colab": {
          "base_uri": "https://localhost:8080/"
        },
        "id": "4hrduSKk8yX7",
        "outputId": "8ce67802-3596-41bf-88f7-0c8c82e33674"
      },
      "execution_count": null,
      "outputs": [
        {
          "output_type": "stream",
          "name": "stdout",
          "text": [
            "{1, 2, 3, 4}\n"
          ]
        }
      ]
    },
    {
      "cell_type": "code",
      "source": [
        "letter=set(\"apple\") #using constructor and outpuct is unordered\n",
        "print(letter)"
      ],
      "metadata": {
        "colab": {
          "base_uri": "https://localhost:8080/"
        },
        "id": "Gy17B_PD8535",
        "outputId": "ee84be7d-6622-4cae-8f0d-20477bbfef4f"
      },
      "execution_count": null,
      "outputs": [
        {
          "output_type": "stream",
          "name": "stdout",
          "text": [
            "{'a', 'p', 'e', 'l'}\n"
          ]
        }
      ]
    },
    {
      "cell_type": "code",
      "source": [
        "a=set('1234563126482746636283')#using constructor method we can have only one arguement\n",
        "\n",
        "print(a)"
      ],
      "metadata": {
        "colab": {
          "base_uri": "https://localhost:8080/"
        },
        "id": "9ShBNJfX9IUy",
        "outputId": "54129ee2-3389-47cf-fa7d-4a435c038bb4"
      },
      "execution_count": null,
      "outputs": [
        {
          "output_type": "stream",
          "name": "stdout",
          "text": [
            "{'6', '8', '4', '5', '1', '7', '3', '2'}\n"
          ]
        }
      ]
    },
    {
      "cell_type": "markdown",
      "source": [
        "**ADDING ELEMENT IN A SET**\n",
        "\n",
        "--syntax:setname.add(element)"
      ],
      "metadata": {
        "id": "_rdqj2T59yMI"
      }
    },
    {
      "cell_type": "code",
      "source": [
        "a={1,2,3,4}\n",
        "a.add(5)\n",
        "print(a)\n",
        "a.add(4)# 4 already exists and set doesnt allows duplicacy\n",
        "print(a)"
      ],
      "metadata": {
        "colab": {
          "base_uri": "https://localhost:8080/"
        },
        "id": "K7Gk-nLb94i4",
        "outputId": "181ca768-8214-4ca5-cfd8-813bf0ff0228"
      },
      "execution_count": null,
      "outputs": [
        {
          "output_type": "stream",
          "name": "stdout",
          "text": [
            "{1, 2, 3, 4, 5}\n",
            "{1, 2, 3, 4, 5}\n"
          ]
        }
      ]
    },
    {
      "cell_type": "markdown",
      "source": [
        "**REMOVING ELEMENT IN A SET**\n",
        "\n",
        "--syntax:setname.remove(element to be removed)"
      ],
      "metadata": {
        "id": "1XfUP1tU-GRv"
      }
    },
    {
      "cell_type": "code",
      "source": [
        "a={1,2,3,4}\n",
        "a.remove(4)\n",
        "print(a)\n",
        "a.remove(5) #error because 5 doesn't exists\n",
        "print(a)"
      ],
      "metadata": {
        "id": "Q1QhiOxf-Fz6",
        "colab": {
          "base_uri": "https://localhost:8080/",
          "height": 211
        },
        "outputId": "75756e9c-2d71-44d1-c064-a48c5f8fd2ed"
      },
      "execution_count": null,
      "outputs": [
        {
          "output_type": "stream",
          "name": "stdout",
          "text": [
            "{1, 2, 3}\n"
          ]
        },
        {
          "output_type": "error",
          "ename": "KeyError",
          "evalue": "5",
          "traceback": [
            "\u001b[0;31m---------------------------------------------------------------------------\u001b[0m",
            "\u001b[0;31mKeyError\u001b[0m                                  Traceback (most recent call last)",
            "\u001b[0;32m<ipython-input-11-fc79fa83ad86>\u001b[0m in \u001b[0;36m<cell line: 4>\u001b[0;34m()\u001b[0m\n\u001b[1;32m      2\u001b[0m \u001b[0ma\u001b[0m\u001b[0;34m.\u001b[0m\u001b[0mremove\u001b[0m\u001b[0;34m(\u001b[0m\u001b[0;36m4\u001b[0m\u001b[0;34m)\u001b[0m\u001b[0;34m\u001b[0m\u001b[0;34m\u001b[0m\u001b[0m\n\u001b[1;32m      3\u001b[0m \u001b[0mprint\u001b[0m\u001b[0;34m(\u001b[0m\u001b[0ma\u001b[0m\u001b[0;34m)\u001b[0m\u001b[0;34m\u001b[0m\u001b[0;34m\u001b[0m\u001b[0m\n\u001b[0;32m----> 4\u001b[0;31m \u001b[0ma\u001b[0m\u001b[0;34m.\u001b[0m\u001b[0mremove\u001b[0m\u001b[0;34m(\u001b[0m\u001b[0;36m5\u001b[0m\u001b[0;34m)\u001b[0m \u001b[0;31m#error because 5 doesn't exists\u001b[0m\u001b[0;34m\u001b[0m\u001b[0;34m\u001b[0m\u001b[0m\n\u001b[0m\u001b[1;32m      5\u001b[0m \u001b[0mprint\u001b[0m\u001b[0;34m(\u001b[0m\u001b[0ma\u001b[0m\u001b[0;34m)\u001b[0m\u001b[0;34m\u001b[0m\u001b[0;34m\u001b[0m\u001b[0m\n",
            "\u001b[0;31mKeyError\u001b[0m: 5"
          ]
        }
      ]
    },
    {
      "cell_type": "markdown",
      "source": [
        "**POP METHOD**\n",
        "\n",
        "--pops out first element out of set\n",
        "\n",
        "--no arguement is given in pop()\n",
        "\n",
        "--syntax:setname.pop()"
      ],
      "metadata": {
        "id": "G-P3h7z0-m4y"
      }
    },
    {
      "cell_type": "code",
      "source": [
        "a={1,2,3,4}\n",
        "a.pop() #will remove 1\n",
        "print(a)\n",
        "a.pop() #will remove 2\n",
        "print(a)\n",
        "a.pop() #will remove 3\n",
        "print(a)\n",
        "a.pop() #will remove 4\n",
        "print(a)\n",
        "a.pop() #error because set is empty\n",
        "print(a)"
      ],
      "metadata": {
        "colab": {
          "base_uri": "https://localhost:8080/",
          "height": 263
        },
        "id": "g5-DCM1T-xg3",
        "outputId": "64dace25-c060-4858-8a56-16d5f270aa66"
      },
      "execution_count": null,
      "outputs": [
        {
          "output_type": "stream",
          "name": "stdout",
          "text": [
            "{2, 3, 4}\n",
            "{3, 4}\n",
            "{4}\n",
            "set()\n"
          ]
        },
        {
          "output_type": "error",
          "ename": "KeyError",
          "evalue": "'pop from an empty set'",
          "traceback": [
            "\u001b[0;31m---------------------------------------------------------------------------\u001b[0m",
            "\u001b[0;31mKeyError\u001b[0m                                  Traceback (most recent call last)",
            "\u001b[0;32m<ipython-input-17-e5e4ff657793>\u001b[0m in \u001b[0;36m<cell line: 10>\u001b[0;34m()\u001b[0m\n\u001b[1;32m      8\u001b[0m \u001b[0ma\u001b[0m\u001b[0;34m.\u001b[0m\u001b[0mpop\u001b[0m\u001b[0;34m(\u001b[0m\u001b[0;34m)\u001b[0m\u001b[0;34m\u001b[0m\u001b[0;34m\u001b[0m\u001b[0m\n\u001b[1;32m      9\u001b[0m \u001b[0mprint\u001b[0m\u001b[0;34m(\u001b[0m\u001b[0ma\u001b[0m\u001b[0;34m)\u001b[0m\u001b[0;34m\u001b[0m\u001b[0;34m\u001b[0m\u001b[0m\n\u001b[0;32m---> 10\u001b[0;31m \u001b[0ma\u001b[0m\u001b[0;34m.\u001b[0m\u001b[0mpop\u001b[0m\u001b[0;34m(\u001b[0m\u001b[0;34m)\u001b[0m\u001b[0;34m\u001b[0m\u001b[0;34m\u001b[0m\u001b[0m\n\u001b[0m\u001b[1;32m     11\u001b[0m \u001b[0mprint\u001b[0m\u001b[0;34m(\u001b[0m\u001b[0ma\u001b[0m\u001b[0;34m)\u001b[0m\u001b[0;34m\u001b[0m\u001b[0;34m\u001b[0m\u001b[0m\n",
            "\u001b[0;31mKeyError\u001b[0m: 'pop from an empty set'"
          ]
        }
      ]
    },
    {
      "cell_type": "markdown",
      "source": [
        "**DISCARD METHOD ON SET**\n",
        "\n",
        "--remove and discared both mthods remove elements from set but discard method doesnot throw any error if element is not present in set.\n",
        "\n",
        "--syntax:setname.discard(element)"
      ],
      "metadata": {
        "id": "8qiKlkmb_k8o"
      }
    },
    {
      "cell_type": "code",
      "source": [
        "a={1,2,3,4}\n",
        "a.discard(4)\n",
        "print(a)\n",
        "a.discard(5) #no error\n",
        "print(a)"
      ],
      "metadata": {
        "colab": {
          "base_uri": "https://localhost:8080/"
        },
        "id": "UhUAPihK-w3w",
        "outputId": "bd5e37d8-092c-4e4e-cb37-81795b404ed5"
      },
      "execution_count": null,
      "outputs": [
        {
          "output_type": "stream",
          "name": "stdout",
          "text": [
            "{1, 2, 3}\n",
            "{1, 2, 3}\n"
          ]
        }
      ]
    },
    {
      "cell_type": "markdown",
      "source": [
        "**MEMBERSHIP CHECKING IN SET**\n",
        "\n",
        "--in operator is used"
      ],
      "metadata": {
        "id": "hiftF49XAcxm"
      }
    },
    {
      "cell_type": "code",
      "source": [
        "a={1,2,3,4}\n",
        "print(1 in a)\n",
        "print(5 in a)\n",
        "print(5 not in a)"
      ],
      "metadata": {
        "colab": {
          "base_uri": "https://localhost:8080/"
        },
        "id": "G_K1uWIlAcc5",
        "outputId": "82153efa-f5fe-4dde-f2dd-3326ba23092f"
      },
      "execution_count": null,
      "outputs": [
        {
          "output_type": "stream",
          "name": "stdout",
          "text": [
            "True\n",
            "False\n",
            "True\n"
          ]
        }
      ]
    },
    {
      "cell_type": "markdown",
      "source": [
        "**CLEAR METHOD**\n",
        "\n",
        "--clear method removes all elements of set but structure of set is there\n",
        "\n",
        "--syntax:setname.clear()\n",
        "\n",
        "\n",
        "**DELETE METHOD**\n",
        "\n",
        "--del keyword is used\n",
        "\n",
        "--it deletes structure of set too\n",
        "\n",
        "--syntax: del setname"
      ],
      "metadata": {
        "id": "bjGQ29cdAp6Z"
      }
    },
    {
      "cell_type": "code",
      "source": [
        "a={1,2,3,4}\n",
        "a.clear()\n",
        "print(a)\n",
        "del a\n",
        "print(a) #error because set is deleted"
      ],
      "metadata": {
        "colab": {
          "base_uri": "https://localhost:8080/",
          "height": 193
        },
        "id": "Hkaza3aCBB4l",
        "outputId": "4e5d0652-7997-4c4c-8f96-c7c3c8de3252"
      },
      "execution_count": null,
      "outputs": [
        {
          "output_type": "stream",
          "name": "stdout",
          "text": [
            "set()\n"
          ]
        },
        {
          "output_type": "error",
          "ename": "NameError",
          "evalue": "name 'a' is not defined",
          "traceback": [
            "\u001b[0;31m---------------------------------------------------------------------------\u001b[0m",
            "\u001b[0;31mNameError\u001b[0m                                 Traceback (most recent call last)",
            "\u001b[0;32m<ipython-input-21-85724f8aac21>\u001b[0m in \u001b[0;36m<cell line: 5>\u001b[0;34m()\u001b[0m\n\u001b[1;32m      3\u001b[0m \u001b[0mprint\u001b[0m\u001b[0;34m(\u001b[0m\u001b[0ma\u001b[0m\u001b[0;34m)\u001b[0m\u001b[0;34m\u001b[0m\u001b[0;34m\u001b[0m\u001b[0m\n\u001b[1;32m      4\u001b[0m \u001b[0;32mdel\u001b[0m \u001b[0ma\u001b[0m\u001b[0;34m\u001b[0m\u001b[0;34m\u001b[0m\u001b[0m\n\u001b[0;32m----> 5\u001b[0;31m \u001b[0mprint\u001b[0m\u001b[0;34m(\u001b[0m\u001b[0ma\u001b[0m\u001b[0;34m)\u001b[0m \u001b[0;31m#error because set is deleted\u001b[0m\u001b[0;34m\u001b[0m\u001b[0;34m\u001b[0m\u001b[0m\n\u001b[0m",
            "\u001b[0;31mNameError\u001b[0m: name 'a' is not defined"
          ]
        }
      ]
    },
    {
      "cell_type": "markdown",
      "source": [
        "**ARITHMATIC OPERATIONS ON SET**"
      ],
      "metadata": {
        "id": "evYwvzNzaKGV"
      }
    },
    {
      "cell_type": "markdown",
      "source": [
        "**UNION**\n",
        "\n",
        "--syntax:set1.union(set2)\n",
        "\n",
        "--will combine both sets and will remove duplication"
      ],
      "metadata": {
        "id": "-WltE7ykaPpw"
      }
    },
    {
      "cell_type": "code",
      "execution_count": null,
      "metadata": {
        "colab": {
          "base_uri": "https://localhost:8080/"
        },
        "id": "pObcd4hLZval",
        "outputId": "b5bb1a88-7837-49af-c213-94261539a5b6"
      },
      "outputs": [
        {
          "output_type": "stream",
          "name": "stdout",
          "text": [
            "{1, 2, 3, 4, 5, 6}\n"
          ]
        }
      ],
      "source": [
        "a={1,2,3,4}\n",
        "b={3,4,5,6}\n",
        "print(a.union(b))\n"
      ]
    },
    {
      "cell_type": "markdown",
      "source": [
        "**INTERSECTION**\n",
        "\n",
        "--syntax:set1.intersection(set2)\n",
        "\n",
        "--will give the common element present in both sets"
      ],
      "metadata": {
        "id": "6IzkHIY5anih"
      }
    },
    {
      "cell_type": "code",
      "source": [
        "a={1,2,3,4}\n",
        "b={3,4,5,6}\n",
        "print(a.intersection(b))"
      ],
      "metadata": {
        "colab": {
          "base_uri": "https://localhost:8080/"
        },
        "id": "UrsvMoj-asEP",
        "outputId": "9dd0318b-01ed-4cdf-fec0-a14e58f3794c"
      },
      "execution_count": null,
      "outputs": [
        {
          "output_type": "stream",
          "name": "stdout",
          "text": [
            "{3, 4}\n"
          ]
        }
      ]
    },
    {
      "cell_type": "markdown",
      "source": [
        "**DIFFERENCE**\n",
        "\n",
        "--syntax:set1.difference(set2)\n",
        "\n",
        "-- will give those elements of set1 which are not present in set2"
      ],
      "metadata": {
        "id": "qAKVxlFzbEyV"
      }
    },
    {
      "cell_type": "code",
      "source": [
        "a={1,2,3,4}\n",
        "b={3,4,5,6}\n",
        "print(a.difference(b))\n",
        "print(b.difference(a))"
      ],
      "metadata": {
        "colab": {
          "base_uri": "https://localhost:8080/"
        },
        "id": "zLGgHS0IbK-y",
        "outputId": "64b1eebd-6a6f-4d7f-b042-bc8fddc65866"
      },
      "execution_count": null,
      "outputs": [
        {
          "output_type": "stream",
          "name": "stdout",
          "text": [
            "{1, 2}\n",
            "{5, 6}\n"
          ]
        }
      ]
    },
    {
      "cell_type": "markdown",
      "source": [
        "**SYMMETRIC DIFFERENCE**\n",
        "\n",
        "--syntax:set1.symmetricdifference(set2)\n",
        "\n",
        "--will give those elements which are not common in both sets"
      ],
      "metadata": {
        "id": "FLZhST61bk7Y"
      }
    },
    {
      "cell_type": "code",
      "source": [
        "a={1,2,3,4}\n",
        "b={3,4,5,6}\n",
        "print(a.symmetric_difference(b))\n",
        "print(b.symmetric_difference(a))"
      ],
      "metadata": {
        "colab": {
          "base_uri": "https://localhost:8080/"
        },
        "id": "Lj3nZHtVbxZg",
        "outputId": "78de0291-752d-4255-8609-ebaa5ced5bf7"
      },
      "execution_count": null,
      "outputs": [
        {
          "output_type": "stream",
          "name": "stdout",
          "text": [
            "{1, 2, 5, 6}\n",
            "{1, 2, 5, 6}\n"
          ]
        }
      ]
    },
    {
      "cell_type": "markdown",
      "source": [
        "**FROZEN SET**\n",
        "\n",
        "--syntax:frozenset()\n",
        "\n",
        "--frozen set do not allows addition or removal of elements but allows all arithmatic operations"
      ],
      "metadata": {
        "id": "YPZ9mGPuekeG"
      }
    },
    {
      "cell_type": "code",
      "source": [
        "a={1,2,3,4}\n",
        "b={3,4,5,6}\n",
        "c=frozenset(a)\n",
        "d=frozenset(b)\n",
        "print(c)\n",
        "print(d)\n",
        "print(type(c))\n",
        "print(type(d))\n",
        "print(c.union(d))\n",
        "print(c.intersection(d))\n",
        "print(c.difference(d))\n",
        "print(c.symmetric_difference(d))\n"
      ],
      "metadata": {
        "colab": {
          "base_uri": "https://localhost:8080/"
        },
        "id": "HWa44oJAgTet",
        "outputId": "6f56a307-7b5f-42fc-bc36-179d2221ce3b"
      },
      "execution_count": null,
      "outputs": [
        {
          "output_type": "stream",
          "name": "stdout",
          "text": [
            "frozenset({1, 2, 3, 4})\n",
            "frozenset({3, 4, 5, 6})\n",
            "<class 'frozenset'>\n",
            "<class 'frozenset'>\n",
            "frozenset({1, 2, 3, 4, 5, 6})\n",
            "frozenset({3, 4})\n",
            "frozenset({1, 2})\n",
            "frozenset({1, 2, 5, 6})\n"
          ]
        }
      ]
    }
  ]
}