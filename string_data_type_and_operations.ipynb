{
  "nbformat": 4,
  "nbformat_minor": 0,
  "metadata": {
    "colab": {
      "provenance": [],
      "authorship_tag": "ABX9TyM/lkG/IypayQB0rnDbaQo6",
      "include_colab_link": true
    },
    "kernelspec": {
      "name": "python3",
      "display_name": "Python 3"
    },
    "language_info": {
      "name": "python"
    }
  },
  "cells": [
    {
      "cell_type": "markdown",
      "metadata": {
        "id": "view-in-github",
        "colab_type": "text"
      },
      "source": [
        "<a href=\"https://colab.research.google.com/github/tanisha1407/PYTHON--notebooks/blob/master/string_data_type_and_operations.ipynb\" target=\"_parent\"><img src=\"https://colab.research.google.com/assets/colab-badge.svg\" alt=\"Open In Colab\"/></a>"
      ]
    },
    {
      "cell_type": "code",
      "source": [
        "r='i m tanisha'\n",
        "print(type(r))\n"
      ],
      "metadata": {
        "colab": {
          "base_uri": "https://localhost:8080/"
        },
        "id": "K7ofGFP4POLy",
        "outputId": "fbbcf987-f29f-4514-b044-2c17f5ee2bea"
      },
      "execution_count": null,
      "outputs": [
        {
          "output_type": "stream",
          "name": "stdout",
          "text": [
            "<class 'str'>\n"
          ]
        }
      ]
    },
    {
      "cell_type": "markdown",
      "source": [
        "**OPERATION ON STRING**\n",
        "\n",
        "\n",
        "slicing and indexing"
      ],
      "metadata": {
        "id": "Eg7a314XDiad"
      }
    },
    {
      "cell_type": "markdown",
      "source": [
        "**IINDEXING**"
      ],
      "metadata": {
        "id": "-IO2-s13HSVd"
      }
    },
    {
      "cell_type": "code",
      "execution_count": null,
      "metadata": {
        "id": "lT3BSO-2GFp6",
        "colab": {
          "base_uri": "https://localhost:8080/"
        },
        "outputId": "bc28fcd6-7994-4d05-e3d3-b2df3ea1e1ce"
      },
      "outputs": [
        {
          "output_type": "stream",
          "name": "stdout",
          "text": [
            "h\n",
            "e\n",
            "l\n",
            "l\n",
            "o\n",
            "e\n",
            "l\n"
          ]
        }
      ],
      "source": [
        "mystring='hello'\n",
        "print(mystring[0])\n",
        "print(mystring[1])\n",
        "print(mystring[2])\n",
        "print(mystring[3])\n",
        "print(mystring[4])\n",
        "\n",
        "print(mystring[-4])\n",
        "print(mystring[-2])\n",
        "##print(mystring[8])WILL give error because out of range\n"
      ]
    },
    {
      "cell_type": "markdown",
      "source": [
        "**SLICING**"
      ],
      "metadata": {
        "id": "cR_P0TwJHWIQ"
      }
    },
    {
      "cell_type": "code",
      "source": [
        "print(mystring[0:4:1])\n",
        "print(mystring[1:4:2])\n",
        "print(mystring[-1:-3:-2])\n",
        "print(mystring[-2:-4:-2])\n",
        "print(mystring[::-1])#will print the string in reverse because no start and end and step count is -1\n"
      ],
      "metadata": {
        "id": "_i8Nl5-7GiZa",
        "colab": {
          "base_uri": "https://localhost:8080/"
        },
        "outputId": "6d68ed56-43c9-4430-b4a6-22143ece8370"
      },
      "execution_count": null,
      "outputs": [
        {
          "output_type": "stream",
          "name": "stdout",
          "text": [
            "hell\n",
            "el\n",
            "o\n",
            "l\n",
            "olleh\n"
          ]
        }
      ]
    }
  ]
}