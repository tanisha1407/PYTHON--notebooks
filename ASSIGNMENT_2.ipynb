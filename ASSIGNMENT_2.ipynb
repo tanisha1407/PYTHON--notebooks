{
  "nbformat": 4,
  "nbformat_minor": 0,
  "metadata": {
    "colab": {
      "provenance": [],
      "authorship_tag": "ABX9TyOkw9UCFoTnZiYCEHqzufjz",
      "include_colab_link": true
    },
    "kernelspec": {
      "name": "python3",
      "display_name": "Python 3"
    },
    "language_info": {
      "name": "python"
    }
  },
  "cells": [
    {
      "cell_type": "markdown",
      "metadata": {
        "id": "view-in-github",
        "colab_type": "text"
      },
      "source": [
        "<a href=\"https://colab.research.google.com/github/tanisha1407/python-notebooks/blob/master/ASSIGNMENT_2.ipynb\" target=\"_parent\"><img src=\"https://colab.research.google.com/assets/colab-badge.svg\" alt=\"Open In Colab\"/></a>"
      ]
    },
    {
      "cell_type": "markdown",
      "source": [
        "**5 EXAMPLES OF INDEXING ON A LIST**"
      ],
      "metadata": {
        "id": "Y18W0QaSpmRL"
      }
    },
    {
      "cell_type": "code",
      "execution_count": null,
      "metadata": {
        "colab": {
          "base_uri": "https://localhost:8080/"
        },
        "id": "eyOzDzOGpI2H",
        "outputId": "5d02617c-4c30-4aff-e545-e93c8ddddef1"
      },
      "outputs": [
        {
          "output_type": "stream",
          "name": "stdout",
          "text": [
            "6\n",
            "yellow\n",
            "blue\n",
            "4\n",
            "7\n"
          ]
        }
      ],
      "source": [
        "x=[2,4,'indore',3.14,'yellow',6,8,2.4,'red','blue',7,00,9.5,'apple']\n",
        "print(x[5])  #index 5 has element '6'\n",
        "print(x[-10]) #index -10 has element'yellow'\n",
        "print(x[9]) #index 9 has element 'blue'\n",
        "print(x[-13]) #index-13 has element '4'\n",
        "print(x[10]) #index 10 has element '7'"
      ]
    },
    {
      "cell_type": "markdown",
      "source": [
        "**5 EXAMPPLES OF SLICING ON A LIST**"
      ],
      "metadata": {
        "id": "OUMYtE8bqhiY"
      }
    },
    {
      "cell_type": "code",
      "source": [
        "x=[2,4,'indore',3.14,'yellow',6,8,2.4,'red','blue',7,00,9.5,'apple']\n",
        "print(x[3:14:3])  #start=3.14,end=9.5,stepsize=3\n",
        "print(x[-10:-2:2]) #start=yellow,end=7,stepsize=2\n",
        "print(x[5:13:1]) #start=6,end=9.5,stepsize=1\n",
        "print(x[-2:-13:-2]) #start=9.5,end=indore,stepsize=2\n",
        "print(x[-12:-10:-1]) #no output because wemoved from front to back with negative step jump"
      ],
      "metadata": {
        "colab": {
          "base_uri": "https://localhost:8080/"
        },
        "id": "mW7zYsTBqnr2",
        "outputId": "39df5c4e-6c52-4d2f-c478-dc0e15b31c22"
      },
      "execution_count": null,
      "outputs": [
        {
          "output_type": "stream",
          "name": "stdout",
          "text": [
            "[3.14, 8, 'blue', 9.5]\n",
            "['yellow', 8, 'red', 7]\n",
            "[6, 8, 2.4, 'red', 'blue', 7, 0, 9.5]\n",
            "[9.5, 7, 'red', 8, 'yellow', 'indore']\n",
            "[]\n"
          ]
        }
      ]
    }
  ]
}