{
  "nbformat": 4,
  "nbformat_minor": 0,
  "metadata": {
    "colab": {
      "provenance": [],
      "authorship_tag": "ABX9TyPcW0pdnxGVi0pq5FXcj2Wl",
      "include_colab_link": true
    },
    "kernelspec": {
      "name": "python3",
      "display_name": "Python 3"
    },
    "language_info": {
      "name": "python"
    }
  },
  "cells": [
    {
      "cell_type": "markdown",
      "metadata": {
        "id": "view-in-github",
        "colab_type": "text"
      },
      "source": [
        "<a href=\"https://colab.research.google.com/github/tanisha1407/python-notebooks/blob/master/LOOPS.ipynb\" target=\"_parent\"><img src=\"https://colab.research.google.com/assets/colab-badge.svg\" alt=\"Open In Colab\"/></a>"
      ]
    },
    {
      "cell_type": "markdown",
      "source": [
        "***LOOPS***\n",
        "\n",
        "--Loops are used to execute a block of code multiple times.\n",
        "\n",
        "\n",
        "\n",
        "--for loop and while loop\n",
        "\n",
        "-- iterable data types are string,tuple,list,dictionary\n",
        "\n",
        "\n",
        "integer is not iterable.\n",
        "\n"
      ],
      "metadata": {
        "id": "QAFgGIrpgqD7"
      }
    },
    {
      "cell_type": "markdown",
      "source": [
        "**FOR LOOP**\n",
        "\n",
        "--syntax:\n",
        "\n",
        "    for variable_name in iterabledatatype:\n",
        "    code to be executed\n",
        "\n",
        "--works on iterable data types\n",
        "\n",
        "iterable data types are string,tuple,list,dictionary\n",
        "\n",
        "integer is not iterable.\n",
        "\n",
        "\n",
        "     "
      ],
      "metadata": {
        "id": "JHTGPOYOg-u6"
      }
    },
    {
      "cell_type": "code",
      "execution_count": null,
      "metadata": {
        "colab": {
          "base_uri": "https://localhost:8080/"
        },
        "id": "oLijRsJ2gmuc",
        "outputId": "f63da1f0-51a8-4ee3-8d38-b359c9fe1b38"
      },
      "outputs": [
        {
          "output_type": "stream",
          "name": "stdout",
          "text": [
            "1\n",
            "2\n",
            "3\n",
            "4\n",
            "5\n"
          ]
        }
      ],
      "source": [
        "a=[1,2,3,4,5]\n",
        "for i in a:\n",
        "  print(i)\n"
      ]
    },
    {
      "cell_type": "code",
      "source": [
        "a=[1,2,3,4,5]\n",
        "for i in a:\n",
        "  print(i*200)\n"
      ],
      "metadata": {
        "colab": {
          "base_uri": "https://localhost:8080/"
        },
        "id": "zYyIqK_EhxYD",
        "outputId": "d9b873c3-7108-43b9-f433-30b1e0d4e62a"
      },
      "execution_count": null,
      "outputs": [
        {
          "output_type": "stream",
          "name": "stdout",
          "text": [
            "200\n",
            "400\n",
            "600\n",
            "800\n",
            "1000\n"
          ]
        }
      ]
    },
    {
      "cell_type": "code",
      "source": [
        "fruits=[\"apple\",\"banana\",\"cherry\"]\n",
        "for x in fruits:\n",
        "  print(x)"
      ],
      "metadata": {
        "colab": {
          "base_uri": "https://localhost:8080/"
        },
        "id": "cB53mQKoh7TA",
        "outputId": "900d0ab0-d0e8-423e-bdb4-e280bbbb4600"
      },
      "execution_count": null,
      "outputs": [
        {
          "output_type": "stream",
          "name": "stdout",
          "text": [
            "apple\n",
            "banana\n",
            "cherry\n"
          ]
        }
      ]
    },
    {
      "cell_type": "code",
      "source": [
        "a=\"banana\"\n",
        "for i in a:\n",
        "  print(i)"
      ],
      "metadata": {
        "colab": {
          "base_uri": "https://localhost:8080/"
        },
        "id": "IQoRgjbJiE2M",
        "outputId": "4584c246-538a-44d3-864f-ba1f2ad7b2d4"
      },
      "execution_count": null,
      "outputs": [
        {
          "output_type": "stream",
          "name": "stdout",
          "text": [
            "b\n",
            "a\n",
            "n\n",
            "a\n",
            "n\n",
            "a\n"
          ]
        }
      ]
    },
    {
      "cell_type": "markdown",
      "source": [],
      "metadata": {
        "id": "tXlDpaxEk1pC"
      }
    },
    {
      "cell_type": "markdown",
      "source": [
        "**INPUT FUNCTION**\n",
        "\n",
        "--input () allows us to take input from user\n",
        "\n",
        "--it takes string input only so we use data conversion methods to input other data types"
      ],
      "metadata": {
        "id": "IQACUlI9lJ1s"
      }
    },
    {
      "cell_type": "code",
      "source": [
        "b=input(\"enter a number\")\n",
        "for i in b:\n",
        "  print(i)"
      ],
      "metadata": {
        "colab": {
          "base_uri": "https://localhost:8080/"
        },
        "id": "z6axdQhriLUT",
        "outputId": "7a41343a-a06d-44a4-c3c6-320cf7fcb0dc"
      },
      "execution_count": null,
      "outputs": [
        {
          "output_type": "stream",
          "name": "stdout",
          "text": [
            "enter a number3\n",
            "3\n"
          ]
        }
      ]
    },
    {
      "cell_type": "markdown",
      "source": [],
      "metadata": {
        "id": "wCjJKfLOlJut"
      }
    },
    {
      "cell_type": "code",
      "source": [
        "a=[1,2,3,4,5]\n",
        "b=int(input())\n",
        "for i in a:\n",
        "  print(b*i)"
      ],
      "metadata": {
        "colab": {
          "base_uri": "https://localhost:8080/"
        },
        "id": "GgiK3sArj_i_",
        "outputId": "63f9d593-9abc-4a2e-f124-451110239738"
      },
      "execution_count": null,
      "outputs": [
        {
          "output_type": "stream",
          "name": "stdout",
          "text": [
            "5\n",
            "5\n",
            "10\n",
            "15\n",
            "20\n",
            "25\n"
          ]
        }
      ]
    },
    {
      "cell_type": "markdown",
      "source": [
        "**RANGE FUNCTION**\n",
        "\n",
        "--provides sequesnce in given range\n",
        "\n",
        "--syntax:range(start,end+1)"
      ],
      "metadata": {
        "id": "uxpnDCuYla5e"
      }
    },
    {
      "cell_type": "markdown",
      "source": [],
      "metadata": {
        "id": "PZiEXzhDlazL"
      }
    },
    {
      "cell_type": "code",
      "source": [
        "for i in range(10,20):\n",
        "  print(i)"
      ],
      "metadata": {
        "colab": {
          "base_uri": "https://localhost:8080/"
        },
        "id": "DbvPHaeckzHn",
        "outputId": "248674fc-8667-4a3f-da5a-c74e3fd928f3"
      },
      "execution_count": null,
      "outputs": [
        {
          "output_type": "stream",
          "name": "stdout",
          "text": [
            "10\n",
            "11\n",
            "12\n",
            "13\n",
            "14\n",
            "15\n",
            "16\n",
            "17\n",
            "18\n",
            "19\n"
          ]
        }
      ]
    },
    {
      "cell_type": "code",
      "source": [
        "\n",
        "a=int(input('enter number='))\n",
        "for i in range(1,11):\n",
        "  print(a*i)"
      ],
      "metadata": {
        "colab": {
          "base_uri": "https://localhost:8080/"
        },
        "id": "UNwLdqYek8Df",
        "outputId": "ab0e9669-0159-46ea-a729-2b644e7c2046"
      },
      "execution_count": null,
      "outputs": [
        {
          "output_type": "stream",
          "name": "stdout",
          "text": [
            "enter number=5\n",
            "5\n",
            "10\n",
            "15\n",
            "20\n",
            "25\n",
            "30\n",
            "35\n",
            "40\n",
            "45\n",
            "50\n"
          ]
        }
      ]
    },
    {
      "cell_type": "code",
      "source": [
        "a=int(input('enter number :'))\n",
        "for i in range(1,11):\n",
        "     print(f'{a}X {i} = {a*i}')"
      ],
      "metadata": {
        "colab": {
          "base_uri": "https://localhost:8080/"
        },
        "id": "UmrAKjaQmit4",
        "outputId": "65ab9757-abeb-4cc1-a4c9-5910972f9470"
      },
      "execution_count": null,
      "outputs": [
        {
          "output_type": "stream",
          "name": "stdout",
          "text": [
            "enter number :5\n",
            "5X 1 = 5\n",
            "5X 2 = 10\n",
            "5X 3 = 15\n",
            "5X 4 = 20\n",
            "5X 5 = 25\n",
            "5X 6 = 30\n",
            "5X 7 = 35\n",
            "5X 8 = 40\n",
            "5X 9 = 45\n",
            "5X 10 = 50\n"
          ]
        }
      ]
    },
    {
      "cell_type": "code",
      "source": [
        "t=(1,2,3,4,5)\n",
        "for i in t:\n",
        "  print(5*i)"
      ],
      "metadata": {
        "colab": {
          "base_uri": "https://localhost:8080/"
        },
        "id": "a33WCfhFnPyD",
        "outputId": "9c072670-4af2-4a33-cad5-c962151c20aa"
      },
      "execution_count": null,
      "outputs": [
        {
          "output_type": "stream",
          "name": "stdout",
          "text": [
            "5\n",
            "10\n",
            "15\n",
            "20\n",
            "25\n"
          ]
        }
      ]
    },
    {
      "cell_type": "code",
      "source": [
        "d1={'a':1,'b':2,'c':3}\n",
        "for i in d1:#by default for loop on dictionary gives keys\n",
        "  print(i*4)"
      ],
      "metadata": {
        "colab": {
          "base_uri": "https://localhost:8080/"
        },
        "id": "mi8WH4pcnVlJ",
        "outputId": "5ad62f51-fdc2-4e1e-8ecb-e82b4aa45b3f"
      },
      "execution_count": null,
      "outputs": [
        {
          "output_type": "stream",
          "name": "stdout",
          "text": [
            "aaaa\n",
            "bbbb\n",
            "cccc\n"
          ]
        }
      ]
    },
    {
      "cell_type": "code",
      "source": [
        "d2={'a':1,'b':2,'c':3}\n",
        "for i in d2.values():#to get values we use values()\n",
        "  print(i*4)"
      ],
      "metadata": {
        "colab": {
          "base_uri": "https://localhost:8080/"
        },
        "id": "2tuAoG05nbwj",
        "outputId": "3413a078-e951-4b37-d6f9-1c95d3645976"
      },
      "execution_count": null,
      "outputs": [
        {
          "output_type": "stream",
          "name": "stdout",
          "text": [
            "4\n",
            "8\n",
            "12\n"
          ]
        }
      ]
    },
    {
      "cell_type": "code",
      "source": [
        "d2={'a':1,'b':2,'c':3}\n",
        "for i in d2.items():#to get both keys and values we use items()\n",
        "  print(i)"
      ],
      "metadata": {
        "colab": {
          "base_uri": "https://localhost:8080/"
        },
        "id": "owtlQFyBn0q_",
        "outputId": "adac715b-0f85-4be8-cbd0-a92afd33f888"
      },
      "execution_count": null,
      "outputs": [
        {
          "output_type": "stream",
          "name": "stdout",
          "text": [
            "('a', 1)\n",
            "('b', 2)\n",
            "('c', 3)\n"
          ]
        }
      ]
    },
    {
      "cell_type": "code",
      "source": [
        "city='jaipur'\n",
        "for i in city:\n",
        "  print(i*5)"
      ],
      "metadata": {
        "colab": {
          "base_uri": "https://localhost:8080/"
        },
        "id": "mSW_fP2Gn5V3",
        "outputId": "ad44de41-27a1-4890-ba49-fa16419852ee"
      },
      "execution_count": null,
      "outputs": [
        {
          "output_type": "stream",
          "name": "stdout",
          "text": [
            "jjjjj\n",
            "aaaaa\n",
            "iiiii\n",
            "ppppp\n",
            "uuuuu\n",
            "rrrrr\n"
          ]
        }
      ]
    },
    {
      "cell_type": "code",
      "source": [
        "#number=1234 #integer is not iterable datatype\n",
        "#for i in number:\n",
        " # print(i)"
      ],
      "metadata": {
        "id": "TePh8YS7oNwJ"
      },
      "execution_count": null,
      "outputs": []
    },
    {
      "cell_type": "markdown",
      "source": [
        "**WHILE LOOP**\n",
        "\n",
        "--syntax:\n",
        "    \n",
        "    while condition:\n",
        "       code to run"
      ],
      "metadata": {
        "id": "5_rhs59pBxpo"
      }
    },
    {
      "cell_type": "code",
      "source": [
        "i=1\n",
        "while i<=10:\n",
        "  print(i)\n",
        "  i=i+1"
      ],
      "metadata": {
        "colab": {
          "base_uri": "https://localhost:8080/"
        },
        "id": "ALfLemELCXR3",
        "outputId": "438053b8-bd35-4b8a-f917-b5e55faa1550"
      },
      "execution_count": null,
      "outputs": [
        {
          "output_type": "stream",
          "name": "stdout",
          "text": [
            "1\n",
            "2\n",
            "3\n",
            "4\n",
            "5\n",
            "6\n",
            "7\n",
            "8\n",
            "9\n",
            "10\n"
          ]
        }
      ]
    },
    {
      "cell_type": "code",
      "source": [
        "i=5\n",
        "while i>0:\n",
        "  print(i)\n",
        "  i-=1"
      ],
      "metadata": {
        "colab": {
          "base_uri": "https://localhost:8080/"
        },
        "id": "yQl7_DIeCin_",
        "outputId": "0e1c49df-1d1e-49fa-fff6-ac61aaab0b66"
      },
      "execution_count": null,
      "outputs": [
        {
          "output_type": "stream",
          "name": "stdout",
          "text": [
            "5\n",
            "4\n",
            "3\n",
            "2\n",
            "1\n"
          ]
        }
      ]
    },
    {
      "cell_type": "code",
      "source": [
        "print('printing odd numbers:')\n",
        "i=1\n",
        "while i<=10:\n",
        "  print(i)\n",
        "  i+=2"
      ],
      "metadata": {
        "colab": {
          "base_uri": "https://localhost:8080/"
        },
        "id": "YvFGBnpRCsr_",
        "outputId": "d4b72538-96bb-4c7f-b6ca-035f1a994393"
      },
      "execution_count": null,
      "outputs": [
        {
          "output_type": "stream",
          "name": "stdout",
          "text": [
            "printing odd numbers:\n",
            "1\n",
            "3\n",
            "5\n",
            "7\n",
            "9\n"
          ]
        }
      ]
    },
    {
      "cell_type": "code",
      "source": [
        "print('printing even numbers:')\n",
        "i=2\n",
        "while i<=10:\n",
        "  print(i)\n",
        "  i+=2\n"
      ],
      "metadata": {
        "colab": {
          "base_uri": "https://localhost:8080/"
        },
        "id": "ZhQCqLcgC1gW",
        "outputId": "f71988d4-64df-4b6e-bd67-3d2b26be8d66"
      },
      "execution_count": null,
      "outputs": [
        {
          "output_type": "stream",
          "name": "stdout",
          "text": [
            "printing even numbers:\n",
            "2\n",
            "4\n",
            "6\n",
            "8\n",
            "10\n"
          ]
        }
      ]
    },
    {
      "cell_type": "code",
      "source": [
        "print('printing odd numbers in reverse:')\n",
        "i=9\n",
        "while i>=1:\n",
        "  print(i)\n",
        "  i-=2\n"
      ],
      "metadata": {
        "colab": {
          "base_uri": "https://localhost:8080/"
        },
        "id": "g0YF-jPcC7ha",
        "outputId": "16407fce-34a3-4dcf-9488-f8407dbedbf8"
      },
      "execution_count": null,
      "outputs": [
        {
          "output_type": "stream",
          "name": "stdout",
          "text": [
            "printing odd numbers in reverse:\n",
            "9\n",
            "7\n",
            "5\n",
            "3\n",
            "1\n"
          ]
        }
      ]
    },
    {
      "cell_type": "code",
      "source": [
        "print('printing even numbers in reverse:')\n",
        "i=10\n",
        "while i>=1:\n",
        "  print(i)\n",
        "  i-=2"
      ],
      "metadata": {
        "colab": {
          "base_uri": "https://localhost:8080/"
        },
        "id": "562Gg0IHDHZD",
        "outputId": "7fe813d8-e40e-42df-c0d0-a3f2ea937d37"
      },
      "execution_count": null,
      "outputs": [
        {
          "output_type": "stream",
          "name": "stdout",
          "text": [
            "printing even numbers in reverse:\n",
            "10\n",
            "8\n",
            "6\n",
            "4\n",
            "2\n"
          ]
        }
      ]
    },
    {
      "cell_type": "code",
      "source": [
        "print('printing 2 table:')\n",
        "i=1\n",
        "while i<=10:\n",
        "  print( f'{2}x{i}={2*i}')\n",
        "  i+=1"
      ],
      "metadata": {
        "colab": {
          "base_uri": "https://localhost:8080/"
        },
        "id": "VLPxY6g8DK9C",
        "outputId": "b956151c-d59d-4064-922f-b3f9be4389f7"
      },
      "execution_count": null,
      "outputs": [
        {
          "output_type": "stream",
          "name": "stdout",
          "text": [
            "printing 2 table:\n",
            "2x1=2\n",
            "2x2=4\n",
            "2x3=6\n",
            "2x4=8\n",
            "2x5=10\n",
            "2x6=12\n",
            "2x7=14\n",
            "2x8=16\n",
            "2x9=18\n",
            "2x10=20\n"
          ]
        }
      ]
    },
    {
      "cell_type": "code",
      "source": [
        "print('printing 3 table:')\n",
        "i=1\n",
        "while i<=10:\n",
        "  print(f'{3}x{i}={3*i}')\n",
        "  i+=1"
      ],
      "metadata": {
        "colab": {
          "base_uri": "https://localhost:8080/"
        },
        "id": "TmQbiBy3DpNY",
        "outputId": "0bc59e32-7957-4c82-d314-942a0685dbfa"
      },
      "execution_count": null,
      "outputs": [
        {
          "output_type": "stream",
          "name": "stdout",
          "text": [
            "printing 3 table:\n",
            "3x1=3\n",
            "3x2=6\n",
            "3x3=9\n",
            "3x4=12\n",
            "3x5=15\n",
            "3x6=18\n",
            "3x7=21\n",
            "3x8=24\n",
            "3x9=27\n",
            "3x10=30\n"
          ]
        }
      ]
    },
    {
      "cell_type": "code",
      "source": [
        "print('printing a table with user input')\n",
        "a=int(input('enter a number'))\n",
        "i=1\n",
        "while i<=10:\n",
        "  print(f'{a}x{i}={a*i}')\n",
        "  i+=1"
      ],
      "metadata": {
        "colab": {
          "base_uri": "https://localhost:8080/"
        },
        "id": "RYgCRRAqD_7R",
        "outputId": "216df303-e595-42e8-e3a2-bcb8a0425e40"
      },
      "execution_count": null,
      "outputs": [
        {
          "output_type": "stream",
          "name": "stdout",
          "text": [
            "printing a table with user input\n",
            "enter a number6\n",
            "6x1=6\n",
            "6x2=12\n",
            "6x3=18\n",
            "6x4=24\n",
            "6x5=30\n",
            "6x6=36\n",
            "6x7=42\n",
            "6x8=48\n",
            "6x9=54\n",
            "6x10=60\n"
          ]
        }
      ]
    },
    {
      "cell_type": "markdown",
      "source": [
        "**NESTED LOOPS**\n",
        "\n",
        "--a loop inside a loop\n",
        "\n",
        "syntax:\n",
        "    \n",
        "    #for variable in iterabletype:\n",
        "      #for variable in iterabletype2:\n",
        "         #code to execute"
      ],
      "metadata": {
        "id": "R8PFlafyA4s_"
      }
    },
    {
      "cell_type": "code",
      "source": [
        "for i in range(1,6):\n",
        "  for j in range(1,6):\n",
        "    print(i,j)"
      ],
      "metadata": {
        "colab": {
          "base_uri": "https://localhost:8080/"
        },
        "id": "TbSnZ7SbBShc",
        "outputId": "2df98c89-fef7-4bc3-d267-00f82e106e44"
      },
      "execution_count": null,
      "outputs": [
        {
          "output_type": "stream",
          "name": "stdout",
          "text": [
            "1 1\n",
            "1 2\n",
            "1 3\n",
            "1 4\n",
            "1 5\n",
            "2 1\n",
            "2 2\n",
            "2 3\n",
            "2 4\n",
            "2 5\n",
            "3 1\n",
            "3 2\n",
            "3 3\n",
            "3 4\n",
            "3 5\n",
            "4 1\n",
            "4 2\n",
            "4 3\n",
            "4 4\n",
            "4 5\n",
            "5 1\n",
            "5 2\n",
            "5 3\n",
            "5 4\n",
            "5 5\n"
          ]
        }
      ]
    },
    {
      "cell_type": "code",
      "source": [
        "a=[1,2,3,4,5,6,7,8,9,10]\n",
        "b=[1,2,3]\n",
        "for i in a:\n",
        "  for j in b:\n",
        "    print(f'a......{i},b......{j}')\n"
      ],
      "metadata": {
        "colab": {
          "base_uri": "https://localhost:8080/"
        },
        "id": "b6VHYpf2Bjm4",
        "outputId": "4e76948f-5010-4a40-c865-0ab7c0fdac40"
      },
      "execution_count": null,
      "outputs": [
        {
          "output_type": "stream",
          "name": "stdout",
          "text": [
            "a......1,b......1\n",
            "a......1,b......2\n",
            "a......1,b......3\n",
            "a......2,b......1\n",
            "a......2,b......2\n",
            "a......2,b......3\n",
            "a......3,b......1\n",
            "a......3,b......2\n",
            "a......3,b......3\n",
            "a......4,b......1\n",
            "a......4,b......2\n",
            "a......4,b......3\n",
            "a......5,b......1\n",
            "a......5,b......2\n",
            "a......5,b......3\n",
            "a......6,b......1\n",
            "a......6,b......2\n",
            "a......6,b......3\n",
            "a......7,b......1\n",
            "a......7,b......2\n",
            "a......7,b......3\n",
            "a......8,b......1\n",
            "a......8,b......2\n",
            "a......8,b......3\n",
            "a......9,b......1\n",
            "a......9,b......2\n",
            "a......9,b......3\n",
            "a......10,b......1\n",
            "a......10,b......2\n",
            "a......10,b......3\n"
          ]
        }
      ]
    },
    {
      "cell_type": "code",
      "source": [
        "a='jaipur'\n",
        "b='indore'\n",
        "for i in a:\n",
        "  for j in b:\n",
        "    print(i,j)"
      ],
      "metadata": {
        "colab": {
          "base_uri": "https://localhost:8080/"
        },
        "id": "T7dOcF__CC1d",
        "outputId": "28d3066b-a6f8-4115-8150-9f9f88381d30"
      },
      "execution_count": null,
      "outputs": [
        {
          "output_type": "stream",
          "name": "stdout",
          "text": [
            "j i\n",
            "j n\n",
            "j d\n",
            "j o\n",
            "j r\n",
            "j e\n",
            "a i\n",
            "a n\n",
            "a d\n",
            "a o\n",
            "a r\n",
            "a e\n",
            "i i\n",
            "i n\n",
            "i d\n",
            "i o\n",
            "i r\n",
            "i e\n",
            "p i\n",
            "p n\n",
            "p d\n",
            "p o\n",
            "p r\n",
            "p e\n",
            "u i\n",
            "u n\n",
            "u d\n",
            "u o\n",
            "u r\n",
            "u e\n",
            "r i\n",
            "r n\n",
            "r d\n",
            "r o\n",
            "r r\n",
            "r e\n"
          ]
        }
      ]
    },
    {
      "cell_type": "code",
      "source": [
        "a=input('enter a number')\n",
        "for i in a:\n",
        "  for j in range(1,11):\n",
        "    print(f'{i}x{j}={i*j}')\n"
      ],
      "metadata": {
        "colab": {
          "base_uri": "https://localhost:8080/"
        },
        "id": "ChDLS03xDvXP",
        "outputId": "fcfb575e-3fef-45c4-f788-3269faecda3c"
      },
      "execution_count": null,
      "outputs": [
        {
          "output_type": "stream",
          "name": "stdout",
          "text": [
            "enter a number7\n",
            "7x1=7\n",
            "7x2=77\n",
            "7x3=777\n",
            "7x4=7777\n",
            "7x5=77777\n",
            "7x6=777777\n",
            "7x7=7777777\n",
            "7x8=77777777\n",
            "7x9=777777777\n",
            "7x10=7777777777\n"
          ]
        }
      ]
    },
    {
      "cell_type": "code",
      "source": [
        "#on tuple\n",
        "a=(1,2,3)\n",
        "b=(4,5,6)\n",
        "for i in a:\n",
        "  for j in b:\n",
        "    print(j,i)"
      ],
      "metadata": {
        "colab": {
          "base_uri": "https://localhost:8080/"
        },
        "id": "NUjQeRPYEZrz",
        "outputId": "f43edbc6-4357-41d9-bf90-78fbfc3e703b"
      },
      "execution_count": null,
      "outputs": [
        {
          "output_type": "stream",
          "name": "stdout",
          "text": [
            "4 1\n",
            "5 1\n",
            "6 1\n",
            "4 2\n",
            "5 2\n",
            "6 2\n",
            "4 3\n",
            "5 3\n",
            "6 3\n"
          ]
        }
      ]
    },
    {
      "cell_type": "markdown",
      "source": [
        "**CONTROL STATEMENTS:**\n",
        "\n",
        "--conditions inside a loop:break,continue and pass and also else\n",
        "\n",
        "-->BREAK:breaks or terminates the loop prematurely(before completion )when conditional statement is satisfied.\n",
        "\n",
        "-->COMPLETE:doesn't runs the loop for the particular condition given or skips the rest of code for current iteration\n",
        "\n",
        "-->PASS:just a placeholder for some code to be given in future\n",
        "\n",
        "-->ELSE:will run after the loop is completed\n",
        "\n"
      ],
      "metadata": {
        "id": "lTAmsqvAFA8F"
      }
    },
    {
      "cell_type": "code",
      "source": [
        "for i in range(1,11):\n",
        "  if i==5:\n",
        "    break #break the loop when i==5\n",
        "  print(i)"
      ],
      "metadata": {
        "colab": {
          "base_uri": "https://localhost:8080/"
        },
        "id": "PoFYnJJEFV6W",
        "outputId": "c50e5635-f587-4f3a-8d13-ff8b74c62924"
      },
      "execution_count": null,
      "outputs": [
        {
          "output_type": "stream",
          "name": "stdout",
          "text": [
            "1\n",
            "2\n",
            "3\n",
            "4\n"
          ]
        }
      ]
    },
    {
      "cell_type": "code",
      "source": [
        "for i in range(1,11):\n",
        "  if i==5:\n",
        "    continue #continue the loop when i==5\n",
        "  print(i)"
      ],
      "metadata": {
        "colab": {
          "base_uri": "https://localhost:8080/"
        },
        "id": "MutflDteF6Jb",
        "outputId": "635a4369-ebfb-463a-f81e-257efdb14a10"
      },
      "execution_count": null,
      "outputs": [
        {
          "output_type": "stream",
          "name": "stdout",
          "text": [
            "1\n",
            "2\n",
            "3\n",
            "4\n",
            "6\n",
            "7\n",
            "8\n",
            "9\n",
            "10\n"
          ]
        }
      ]
    },
    {
      "cell_type": "code",
      "source": [
        "for i in range(1,11):\n",
        "  if i==5:\n",
        "    pass\n",
        "  print(i)"
      ],
      "metadata": {
        "colab": {
          "base_uri": "https://localhost:8080/"
        },
        "id": "YLk6tE0HGXQP",
        "outputId": "08d0a684-fa5c-474e-f58f-78fea49ae2d9"
      },
      "execution_count": null,
      "outputs": [
        {
          "output_type": "stream",
          "name": "stdout",
          "text": [
            "1\n",
            "2\n",
            "3\n",
            "4\n",
            "5\n",
            "6\n",
            "7\n",
            "8\n",
            "9\n",
            "10\n"
          ]
        }
      ]
    },
    {
      "cell_type": "code",
      "source": [
        "for i in range(1,6):\n",
        "  print(i)\n",
        "else:\n",
        "    print('loop completed')"
      ],
      "metadata": {
        "colab": {
          "base_uri": "https://localhost:8080/"
        },
        "id": "QY5c3AO2GtPQ",
        "outputId": "19f96766-1b93-48c2-c5a7-9466e8da1905"
      },
      "execution_count": null,
      "outputs": [
        {
          "output_type": "stream",
          "name": "stdout",
          "text": [
            "1\n",
            "2\n",
            "3\n",
            "4\n",
            "5\n",
            "loop completed\n"
          ]
        }
      ]
    },
    {
      "cell_type": "code",
      "source": [
        "for i in range(1,8):\n",
        "  if i==7:\n",
        "    break\n",
        "  print(i)\n"
      ],
      "metadata": {
        "colab": {
          "base_uri": "https://localhost:8080/"
        },
        "id": "GXYIBtUYJpTl",
        "outputId": "5a6c62d0-c403-4dab-a3bb-07d5702509bb"
      },
      "execution_count": null,
      "outputs": [
        {
          "output_type": "stream",
          "name": "stdout",
          "text": [
            "1\n",
            "2\n",
            "3\n",
            "4\n",
            "5\n",
            "6\n"
          ]
        }
      ]
    },
    {
      "cell_type": "code",
      "source": [
        "for i in range(1,8):\n",
        "  if i==6:\n",
        "    continue\n",
        "  print(i)"
      ],
      "metadata": {
        "colab": {
          "base_uri": "https://localhost:8080/"
        },
        "id": "lpVdkkG8J4IU",
        "outputId": "384929ef-e596-419d-f38e-b86eea777812"
      },
      "execution_count": null,
      "outputs": [
        {
          "output_type": "stream",
          "name": "stdout",
          "text": [
            "1\n",
            "2\n",
            "3\n",
            "4\n",
            "5\n",
            "7\n"
          ]
        }
      ]
    },
    {
      "cell_type": "code",
      "source": [
        "for i in range(1,8):\n",
        "  if i==7:\n",
        "    pass\n",
        "  print(i)"
      ],
      "metadata": {
        "colab": {
          "base_uri": "https://localhost:8080/"
        },
        "id": "stnwCTTZKDFm",
        "outputId": "e323e756-4df2-4eac-b8c6-9a2268108351"
      },
      "execution_count": null,
      "outputs": [
        {
          "output_type": "stream",
          "name": "stdout",
          "text": [
            "1\n",
            "2\n",
            "3\n",
            "4\n",
            "5\n",
            "6\n",
            "7\n"
          ]
        }
      ]
    },
    {
      "cell_type": "code",
      "source": [
        "for i in range(1,8):\n",
        "    print(i)\n",
        "else:\n",
        "    print('loop completed')"
      ],
      "metadata": {
        "colab": {
          "base_uri": "https://localhost:8080/"
        },
        "id": "vhGnlOJxKJAh",
        "outputId": "1c91c52c-636f-4b85-ad51-e86a09110db2"
      },
      "execution_count": null,
      "outputs": [
        {
          "output_type": "stream",
          "name": "stdout",
          "text": [
            "1\n",
            "2\n",
            "3\n",
            "4\n",
            "5\n",
            "6\n",
            "7\n",
            "loop completed\n"
          ]
        }
      ]
    },
    {
      "cell_type": "markdown",
      "source": [
        "**INFINITE LOOP**\n",
        "\n"
      ],
      "metadata": {
        "id": "8dw3JOQ8L7aB"
      }
    },
    {
      "cell_type": "code",
      "source": [
        "#will give infinite output\n",
        "#while True:\n",
        " #print('hello')"
      ],
      "metadata": {
        "id": "p4vvp1vhKilD"
      },
      "execution_count": null,
      "outputs": []
    },
    {
      "cell_type": "markdown",
      "source": [
        "**ENUMERATE FUNCTION**\n",
        "\n",
        "gives you element as well as its corresponding index."
      ],
      "metadata": {
        "id": "Gzql6R1MMOm5"
      }
    },
    {
      "cell_type": "code",
      "source": [
        "fruits=['apple','banana','cherry']\n",
        "for index,fruit in enumerate(fruits):\n",
        "  print(index,fruit)"
      ],
      "metadata": {
        "colab": {
          "base_uri": "https://localhost:8080/"
        },
        "id": "2vX50e7LMOBa",
        "outputId": "f8348c54-fa88-4b6c-ed15-413a59eff868"
      },
      "execution_count": null,
      "outputs": [
        {
          "output_type": "stream",
          "name": "stdout",
          "text": [
            "0 apple\n",
            "1 banana\n",
            "2 cherry\n"
          ]
        }
      ]
    },
    {
      "cell_type": "code",
      "source": [
        "#fetching key and values\n",
        "dic={'a':1,'b':2,'c':3}\n",
        "for key,value in dic.items():\n",
        "  print(key,value)"
      ],
      "metadata": {
        "colab": {
          "base_uri": "https://localhost:8080/"
        },
        "id": "xbEn7QguMsVo",
        "outputId": "6bf27d32-3ecd-4a08-d70c-aec6fd2fe685"
      },
      "execution_count": null,
      "outputs": [
        {
          "output_type": "stream",
          "name": "stdout",
          "text": [
            "a 1\n",
            "b 2\n",
            "c 3\n"
          ]
        }
      ]
    },
    {
      "cell_type": "markdown",
      "source": [
        "**CREATING LIST,DICTIONARY AND SET USING LOOPS**\n",
        "**(OR USING LIST,DICTIONARY AND SET COMPREHENSION)**"
      ],
      "metadata": {
        "id": "UXvjIOAPNI6k"
      }
    },
    {
      "cell_type": "code",
      "source": [
        "a_normal=[x for x in range(1,11)] #list comprehension\n",
        "print(a_normal)\n",
        "a_squared=[x**2 for x in range(1,11)] #list comprehension\n",
        "print(a_squared)"
      ],
      "metadata": {
        "colab": {
          "base_uri": "https://localhost:8080/"
        },
        "id": "7KTU-8LFNHJY",
        "outputId": "23928dd1-17c2-4de0-e574-0e7afc386117"
      },
      "execution_count": null,
      "outputs": [
        {
          "output_type": "stream",
          "name": "stdout",
          "text": [
            "[1, 2, 3, 4, 5, 6, 7, 8, 9, 10]\n",
            "[1, 4, 9, 16, 25, 36, 49, 64, 81, 100]\n"
          ]
        }
      ]
    },
    {
      "cell_type": "code",
      "source": [
        "dict1={x:x for x in range(2,11)} #dictionary comprehension\n",
        "print(dict1)\n",
        "dict2={x:x*6 for x in range(2,11)} #dictionary comprehension\n",
        "print(dict2)"
      ],
      "metadata": {
        "colab": {
          "base_uri": "https://localhost:8080/"
        },
        "id": "bmL60Dr3Nq2J",
        "outputId": "dedfaaec-9067-4e27-9125-d4b0eda749b5"
      },
      "execution_count": null,
      "outputs": [
        {
          "output_type": "stream",
          "name": "stdout",
          "text": [
            "{2: 2, 3: 3, 4: 4, 5: 5, 6: 6, 7: 7, 8: 8, 9: 9, 10: 10}\n",
            "{2: 12, 3: 18, 4: 24, 5: 30, 6: 36, 7: 42, 8: 48, 9: 54, 10: 60}\n"
          ]
        }
      ]
    },
    {
      "cell_type": "code",
      "source": [
        "set1={x for x in range(4,11)} #set comprehension\n",
        "print(set1)\n",
        "set2={x*11 for x in range(4,11)} #set comprehension\n",
        "print(set2)\n",
        "print(sorted(set2))"
      ],
      "metadata": {
        "colab": {
          "base_uri": "https://localhost:8080/"
        },
        "id": "tTtjXHMwN0Wx",
        "outputId": "b9499c78-b004-4c19-cd24-74272dc771cb"
      },
      "execution_count": null,
      "outputs": [
        {
          "output_type": "stream",
          "name": "stdout",
          "text": [
            "{4, 5, 6, 7, 8, 9, 10}\n",
            "{66, 99, 44, 77, 110, 55, 88}\n",
            "[44, 55, 66, 77, 88, 99, 110]\n"
          ]
        }
      ]
    }
  ]
}